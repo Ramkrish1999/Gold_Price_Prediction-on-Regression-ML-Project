{
 "cells": [
  {
   "cell_type": "markdown",
   "id": "3ec1bfef-08df-42ff-9435-3ed89d6e2f19",
   "metadata": {},
   "source": [
    "# **Business Understanding**\n",
    "## 1.Dataset Description\n",
    "- The dataset contains historical financial market data across several key economic and commodity indicators. These include:\n",
    "\n",
    "- Stock market indices like S&P 500, NASDAQ\n",
    "\n",
    "- Precious metals such as Gold, Silver, Platinum, Palladium\n",
    "\n",
    "- Energy commodities like Oil\n",
    "\n",
    "- Currency exchange rates (usd_chf, eur_usd)\n",
    "\n",
    "- Economic indicators (some removed due to missing values)\n",
    "\n",
    "## Each asset class includes daily features such as:\n",
    "\n",
    "- Open, High, Low, Close prices\n",
    "\n",
    "- Trading Volume\n",
    "\n",
    "- Price Range (high-low)\n",
    "\n",
    "# **Domain:**\n",
    "## The dataset belongs to the financial markets and commodities trading domain, commonly used in:\n",
    "\n",
    "- Quantitative finance\n",
    "\n",
    "- Algorithmic trading\n",
    "\n",
    "- Economic forecasting\n",
    "\n",
    "- Investment portfolio analysis\n",
    "\n",
    "# **2. Business Problem Statement**\n",
    "- The goal is to predict the closing price of gold (gold close) based on market indicators and asset prices from the same trading day.\n",
    "\n",
    "# Objective\n",
    "- Build a regression model (e.g., K-Nearest Neighbors) to predict gold close price.\n",
    "\n",
    "- Use external market signals (e.g., oil prices, S&P500, NASDAQ, etc.) as input features.\n",
    "\n",
    "- Avoid features that directly leak gold’s outcome (like gold open, gold high, gold low).\n",
    "\n",
    "## **Benefits / Use Cases**\n",
    "- Help traders/investors estimate end-of-day gold price.\n",
    "\n",
    "- Improve automated trading strategies based on market dynamics.\n",
    "\n",
    "- Assist analysts in identifying leading indicators that influence gold price movements.\n",
    "\n"
   ]
  },
  {
   "cell_type": "code",
   "execution_count": 1,
   "id": "e6320f5b-e1ff-4967-9c79-878e2aab16dc",
   "metadata": {
    "execution": {
     "iopub.execute_input": "2025-08-08T18:09:12.645822Z",
     "iopub.status.busy": "2025-08-08T18:09:12.645822Z",
     "iopub.status.idle": "2025-08-08T18:09:43.050440Z",
     "shell.execute_reply": "2025-08-08T18:09:43.050440Z",
     "shell.execute_reply.started": "2025-08-08T18:09:12.645822Z"
    }
   },
   "outputs": [],
   "source": [
    "import pandas as pd\n",
    "import matplotlib.pyplot as plt\n",
    "import numpy as np\n",
    "import seaborn as sns\n",
    "from sklearn.model_selection import train_test_split\n",
    "from sklearn.preprocessing import StandardScaler\n",
    "from sklearn.neighbors import KNeighborsRegressor\n",
    "from sklearn.metrics import mean_squared_error, r2_score"
   ]
  },
  {
   "cell_type": "code",
   "execution_count": 2,
   "id": "43aba7a3-e487-4a82-912c-871e98ad7e8c",
   "metadata": {
    "execution": {
     "iopub.execute_input": "2025-08-08T18:09:43.053391Z",
     "iopub.status.busy": "2025-08-08T18:09:43.053391Z",
     "iopub.status.idle": "2025-08-08T18:09:43.576269Z",
     "shell.execute_reply": "2025-08-08T18:09:43.573211Z",
     "shell.execute_reply.started": "2025-08-08T18:09:43.053391Z"
    }
   },
   "outputs": [
    {
     "data": {
      "text/html": [
       "<div>\n",
       "<style scoped>\n",
       "    .dataframe tbody tr th:only-of-type {\n",
       "        vertical-align: middle;\n",
       "    }\n",
       "\n",
       "    .dataframe tbody tr th {\n",
       "        vertical-align: top;\n",
       "    }\n",
       "\n",
       "    .dataframe thead th {\n",
       "        text-align: right;\n",
       "    }\n",
       "</style>\n",
       "<table border=\"1\" class=\"dataframe\">\n",
       "  <thead>\n",
       "    <tr style=\"text-align: right;\">\n",
       "      <th></th>\n",
       "      <th>date</th>\n",
       "      <th>sp500 open</th>\n",
       "      <th>sp500 high</th>\n",
       "      <th>sp500 low</th>\n",
       "      <th>sp500 close</th>\n",
       "      <th>sp500 volume</th>\n",
       "      <th>sp500 high-low</th>\n",
       "      <th>nasdaq open</th>\n",
       "      <th>nasdaq high</th>\n",
       "      <th>nasdaq low</th>\n",
       "      <th>...</th>\n",
       "      <th>palladium high</th>\n",
       "      <th>palladium low</th>\n",
       "      <th>palladium close</th>\n",
       "      <th>palladium volume</th>\n",
       "      <th>palladium high-low</th>\n",
       "      <th>gold open</th>\n",
       "      <th>gold high</th>\n",
       "      <th>gold low</th>\n",
       "      <th>gold close</th>\n",
       "      <th>gold volume</th>\n",
       "    </tr>\n",
       "  </thead>\n",
       "  <tbody>\n",
       "    <tr>\n",
       "      <th>0</th>\n",
       "      <td>2010-01-14</td>\n",
       "      <td>114.49</td>\n",
       "      <td>115.14</td>\n",
       "      <td>114.42</td>\n",
       "      <td>114.93</td>\n",
       "      <td>115646960.0</td>\n",
       "      <td>0.72</td>\n",
       "      <td>46.26</td>\n",
       "      <td>46.520</td>\n",
       "      <td>46.22</td>\n",
       "      <td>...</td>\n",
       "      <td>45.02</td>\n",
       "      <td>43.86</td>\n",
       "      <td>44.84</td>\n",
       "      <td>364528.0</td>\n",
       "      <td>1.16</td>\n",
       "      <td>111.51</td>\n",
       "      <td>112.37</td>\n",
       "      <td>110.79</td>\n",
       "      <td>112.03</td>\n",
       "      <td>18305238.0</td>\n",
       "    </tr>\n",
       "    <tr>\n",
       "      <th>1</th>\n",
       "      <td>2010-01-15</td>\n",
       "      <td>114.73</td>\n",
       "      <td>114.84</td>\n",
       "      <td>113.20</td>\n",
       "      <td>113.64</td>\n",
       "      <td>212252769.0</td>\n",
       "      <td>1.64</td>\n",
       "      <td>46.46</td>\n",
       "      <td>46.550</td>\n",
       "      <td>45.65</td>\n",
       "      <td>...</td>\n",
       "      <td>45.76</td>\n",
       "      <td>44.40</td>\n",
       "      <td>45.76</td>\n",
       "      <td>442210.0</td>\n",
       "      <td>1.36</td>\n",
       "      <td>111.35</td>\n",
       "      <td>112.01</td>\n",
       "      <td>110.38</td>\n",
       "      <td>110.86</td>\n",
       "      <td>18000724.0</td>\n",
       "    </tr>\n",
       "    <tr>\n",
       "      <th>2</th>\n",
       "      <td>2010-01-18</td>\n",
       "      <td>NaN</td>\n",
       "      <td>NaN</td>\n",
       "      <td>NaN</td>\n",
       "      <td>NaN</td>\n",
       "      <td>NaN</td>\n",
       "      <td>NaN</td>\n",
       "      <td>NaN</td>\n",
       "      <td>NaN</td>\n",
       "      <td>NaN</td>\n",
       "      <td>...</td>\n",
       "      <td>NaN</td>\n",
       "      <td>NaN</td>\n",
       "      <td>NaN</td>\n",
       "      <td>NaN</td>\n",
       "      <td>NaN</td>\n",
       "      <td>NaN</td>\n",
       "      <td>NaN</td>\n",
       "      <td>NaN</td>\n",
       "      <td>NaN</td>\n",
       "      <td>NaN</td>\n",
       "    </tr>\n",
       "    <tr>\n",
       "      <th>3</th>\n",
       "      <td>2010-01-19</td>\n",
       "      <td>113.62</td>\n",
       "      <td>115.13</td>\n",
       "      <td>113.59</td>\n",
       "      <td>115.06</td>\n",
       "      <td>138671890.0</td>\n",
       "      <td>1.54</td>\n",
       "      <td>45.96</td>\n",
       "      <td>46.640</td>\n",
       "      <td>45.95</td>\n",
       "      <td>...</td>\n",
       "      <td>47.08</td>\n",
       "      <td>45.70</td>\n",
       "      <td>46.94</td>\n",
       "      <td>629150.0</td>\n",
       "      <td>1.38</td>\n",
       "      <td>110.95</td>\n",
       "      <td>111.75</td>\n",
       "      <td>110.83</td>\n",
       "      <td>111.52</td>\n",
       "      <td>10467927.0</td>\n",
       "    </tr>\n",
       "    <tr>\n",
       "      <th>4</th>\n",
       "      <td>2010-01-20</td>\n",
       "      <td>114.28</td>\n",
       "      <td>114.45</td>\n",
       "      <td>112.98</td>\n",
       "      <td>113.89</td>\n",
       "      <td>216330645.0</td>\n",
       "      <td>1.47</td>\n",
       "      <td>46.27</td>\n",
       "      <td>46.604</td>\n",
       "      <td>45.43</td>\n",
       "      <td>...</td>\n",
       "      <td>47.31</td>\n",
       "      <td>45.17</td>\n",
       "      <td>47.05</td>\n",
       "      <td>643198.0</td>\n",
       "      <td>2.14</td>\n",
       "      <td>109.97</td>\n",
       "      <td>110.05</td>\n",
       "      <td>108.46</td>\n",
       "      <td>108.94</td>\n",
       "      <td>17534231.0</td>\n",
       "    </tr>\n",
       "  </tbody>\n",
       "</table>\n",
       "<p>5 rows × 47 columns</p>\n",
       "</div>"
      ],
      "text/plain": [
       "         date  sp500 open  sp500 high  sp500 low  sp500 close  sp500 volume  \\\n",
       "0  2010-01-14      114.49      115.14     114.42       114.93   115646960.0   \n",
       "1  2010-01-15      114.73      114.84     113.20       113.64   212252769.0   \n",
       "2  2010-01-18         NaN         NaN        NaN          NaN           NaN   \n",
       "3  2010-01-19      113.62      115.13     113.59       115.06   138671890.0   \n",
       "4  2010-01-20      114.28      114.45     112.98       113.89   216330645.0   \n",
       "\n",
       "   sp500 high-low  nasdaq open  nasdaq high  nasdaq low  ...  palladium high  \\\n",
       "0            0.72        46.26       46.520       46.22  ...           45.02   \n",
       "1            1.64        46.46       46.550       45.65  ...           45.76   \n",
       "2             NaN          NaN          NaN         NaN  ...             NaN   \n",
       "3            1.54        45.96       46.640       45.95  ...           47.08   \n",
       "4            1.47        46.27       46.604       45.43  ...           47.31   \n",
       "\n",
       "   palladium low  palladium close  palladium volume  palladium high-low  \\\n",
       "0          43.86            44.84          364528.0                1.16   \n",
       "1          44.40            45.76          442210.0                1.36   \n",
       "2            NaN              NaN               NaN                 NaN   \n",
       "3          45.70            46.94          629150.0                1.38   \n",
       "4          45.17            47.05          643198.0                2.14   \n",
       "\n",
       "   gold open  gold high  gold low  gold close  gold volume  \n",
       "0     111.51     112.37    110.79      112.03   18305238.0  \n",
       "1     111.35     112.01    110.38      110.86   18000724.0  \n",
       "2        NaN        NaN       NaN         NaN          NaN  \n",
       "3     110.95     111.75    110.83      111.52   10467927.0  \n",
       "4     109.97     110.05    108.46      108.94   17534231.0  \n",
       "\n",
       "[5 rows x 47 columns]"
      ]
     },
     "execution_count": 2,
     "metadata": {},
     "output_type": "execute_result"
    }
   ],
   "source": [
    "df = pd.read_csv('financial_regression.csv')\n",
    "df.head()"
   ]
  },
  {
   "cell_type": "markdown",
   "id": "b17b2950-3958-4995-9a11-ddc90e2048a2",
   "metadata": {},
   "source": [
    "#### Checking Outliers using Boxplot"
   ]
  },
  {
   "cell_type": "code",
   "execution_count": 4,
   "id": "9c425d02-05f8-4620-a154-a4b1e4f1fe21",
   "metadata": {
    "execution": {
     "iopub.execute_input": "2025-08-08T18:09:43.633915Z",
     "iopub.status.busy": "2025-08-08T18:09:43.632686Z",
     "iopub.status.idle": "2025-08-08T18:09:48.838719Z",
     "shell.execute_reply": "2025-08-08T18:09:48.836115Z",
     "shell.execute_reply.started": "2025-08-08T18:09:43.633915Z"
    }
   },
   "outputs": [
    {
     "data": {
      "image/png": "[encoded data removed]",
      "text/plain": [
       "<Figure size 1200x600 with 1 Axes>"
      ]
     },
     "metadata": {},
     "output_type": "display_data"
    }
   ],
   "source": [
    "# Select numeric columns\n",
    "numeric_cols = df.select_dtypes(include='number').columns\n",
    "\n",
    "# Plot before\n",
    "plt.figure(figsize=(12, 6))\n",
    "sns.boxplot(data=df[numeric_cols])\n",
    "plt.title(\"Before Outlier Removal\")\n",
    "plt.xticks(rotation=45)\n",
    "plt.grid(True)\n",
    "plt.tight_layout()\n",
    "plt.show()"
   ]
  },
  {
   "cell_type": "markdown",
   "id": "f355946f-c04c-4dc9-819c-c448288ad004",
   "metadata": {},
   "source": [
    "### Above given data have Target column has missing values and outliers.\n",
    "- The line i want to remove rows from DataFrame where the column 'gold close' has missing (NaN) values.\n",
    "- Target column has missing values.\n",
    "- I want to clean my data before training."
   ]
  },
  {
   "cell_type": "code",
   "execution_count": null,
   "id": "76080a9d-9fd4-45cd-aa8f-1c4ada655c56",
   "metadata": {},
   "outputs": [],
   "source": []
  },
  {
   "cell_type": "markdown",
   "id": "b79ed5ab-ce0c-464d-9269-927e0e4bcdb2",
   "metadata": {},
   "source": [
    "## These columns are dropped because:\n",
    "\n",
    "- They have too many missing values (us_rates_%, CPI, GDP)\n",
    "\n",
    "- date is non-numeric, and not used in this modeling"
   ]
  },
  {
   "cell_type": "code",
   "execution_count": 8,
   "id": "a7926e42-df1e-4aa6-aa15-a1f287da07a8",
   "metadata": {
    "execution": {
     "iopub.execute_input": "2025-08-08T18:09:48.942776Z",
     "iopub.status.busy": "2025-08-08T18:09:48.940441Z",
     "iopub.status.idle": "2025-08-08T18:09:48.957390Z",
     "shell.execute_reply": "2025-08-08T18:09:48.955308Z",
     "shell.execute_reply.started": "2025-08-08T18:09:48.942776Z"
    }
   },
   "outputs": [
    {
     "data": {
      "text/plain": [
       "Index(['date', 'sp500 open', 'sp500 high', 'sp500 low', 'sp500 close',\n",
       "       'sp500 volume', 'sp500 high-low', 'nasdaq open', 'nasdaq high',\n",
       "       'nasdaq low', 'nasdaq close', 'nasdaq volume', 'nasdaq high-low',\n",
       "       'us_rates_%', 'CPI', 'usd_chf', 'eur_usd', 'GDP', 'silver open',\n",
       "       'silver high', 'silver low', 'silver close', 'silver volume',\n",
       "       'silver high-low', 'oil open', 'oil high', 'oil low', 'oil close',\n",
       "       'oil volume', 'oil high-low', 'platinum open', 'platinum high',\n",
       "       'platinum low', 'platinum close', 'platinum volume',\n",
       "       'platinum high-low', 'palladium open', 'palladium high',\n",
       "       'palladium low', 'palladium close', 'palladium volume',\n",
       "       'palladium high-low', 'gold open', 'gold high', 'gold low',\n",
       "       'gold close', 'gold volume'],\n",
       "      dtype='object')"
      ]
     },
     "execution_count": 8,
     "metadata": {},
     "output_type": "execute_result"
    }
   ],
   "source": [
    "df.columns"
   ]
  },
  {
   "cell_type": "code",
   "execution_count": 9,
   "id": "1a27b4b2-8be8-4c3e-83af-2217463f1510",
   "metadata": {
    "execution": {
     "iopub.execute_input": "2025-08-08T18:09:48.957390Z",
     "iopub.status.busy": "2025-08-08T18:09:48.957390Z",
     "iopub.status.idle": "2025-08-08T18:09:48.978874Z",
     "shell.execute_reply": "2025-08-08T18:09:48.978874Z",
     "shell.execute_reply.started": "2025-08-08T18:09:48.957390Z"
    }
   },
   "outputs": [],
   "source": [
    "# Drop sparse and non-numeric columns\n",
    "df = df.drop(columns=['date',\n",
    "       'us_rates_%', 'CPI', 'GDP', 'silver open',\n",
    "       'silver high', 'silver low', 'silver close', 'silver volume',\n",
    "       'silver high-low', 'oil open', 'oil high', 'oil low', 'oil close',\n",
    "       'oil volume', 'oil high-low', 'platinum open', 'platinum high',\n",
    "       'platinum low', 'platinum close', 'platinum volume',\n",
    "       'platinum high-low', 'palladium open', 'palladium high',\n",
    "       'palladium low', 'palladium close', 'palladium volume',\n",
    "       'palladium high-low'])"
   ]
  },
  {
   "cell_type": "code",
   "execution_count": 10,
   "id": "42444e2a-c653-45e9-a4c2-47ac5b5c2c69",
   "metadata": {
    "execution": {
     "iopub.execute_input": "2025-08-08T18:09:48.982186Z",
     "iopub.status.busy": "2025-08-08T18:09:48.982186Z",
     "iopub.status.idle": "2025-08-08T18:09:49.097950Z",
     "shell.execute_reply": "2025-08-08T18:09:49.095198Z",
     "shell.execute_reply.started": "2025-08-08T18:09:48.982186Z"
    }
   },
   "outputs": [
    {
     "name": "stdout",
     "output_type": "stream",
     "text": [
      "<class 'pandas.core.frame.DataFrame'>\n",
      "RangeIndex: 3904 entries, 0 to 3903\n",
      "Data columns (total 19 columns):\n",
      " #   Column           Non-Null Count  Dtype  \n",
      "---  ------           --------------  -----  \n",
      " 0   sp500 open       3719 non-null   float64\n",
      " 1   sp500 high       3719 non-null   float64\n",
      " 2   sp500 low        3719 non-null   float64\n",
      " 3   sp500 close      3719 non-null   float64\n",
      " 4   sp500 volume     3719 non-null   float64\n",
      " 5   sp500 high-low   3719 non-null   float64\n",
      " 6   nasdaq open      3719 non-null   float64\n",
      " 7   nasdaq high      3719 non-null   float64\n",
      " 8   nasdaq low       3719 non-null   float64\n",
      " 9   nasdaq close     3719 non-null   float64\n",
      " 10  nasdaq volume    3719 non-null   float64\n",
      " 11  nasdaq high-low  3719 non-null   float64\n",
      " 12  usd_chf          3694 non-null   float64\n",
      " 13  eur_usd          3694 non-null   float64\n",
      " 14  gold open        3719 non-null   float64\n",
      " 15  gold high        3719 non-null   float64\n",
      " 16  gold low         3719 non-null   float64\n",
      " 17  gold close       3719 non-null   float64\n",
      " 18  gold volume      3719 non-null   float64\n",
      "dtypes: float64(19)\n",
      "memory usage: 579.6 KB\n"
     ]
    }
   ],
   "source": [
    "df.info()"
   ]
  },
  {
   "cell_type": "markdown",
   "id": "7eedc1e6-ca90-4b00-aa33-4e7406c2cc9f",
   "metadata": {},
   "source": [
    "### Drop Rows with Missing Target Values\n",
    "\n",
    "- Removes rows where the target (gold close) is missing — these can't be used for training.\n"
   ]
  },
  {
   "cell_type": "code",
   "execution_count": 12,
   "id": "a5995107-6f07-4410-aa45-7fb7a7a7f32c",
   "metadata": {
    "execution": {
     "iopub.execute_input": "2025-08-08T18:09:49.148860Z",
     "iopub.status.busy": "2025-08-08T18:09:49.147739Z",
     "iopub.status.idle": "2025-08-08T18:09:49.189271Z",
     "shell.execute_reply": "2025-08-08T18:09:49.189271Z",
     "shell.execute_reply.started": "2025-08-08T18:09:49.148860Z"
    }
   },
   "outputs": [
    {
     "data": {
      "text/html": [
       "<div>\n",
       "<style scoped>\n",
       "    .dataframe tbody tr th:only-of-type {\n",
       "        vertical-align: middle;\n",
       "    }\n",
       "\n",
       "    .dataframe tbody tr th {\n",
       "        vertical-align: top;\n",
       "    }\n",
       "\n",
       "    .dataframe thead th {\n",
       "        text-align: right;\n",
       "    }\n",
       "</style>\n",
       "<table border=\"1\" class=\"dataframe\">\n",
       "  <thead>\n",
       "    <tr style=\"text-align: right;\">\n",
       "      <th></th>\n",
       "      <th>sp500 open</th>\n",
       "      <th>sp500 high</th>\n",
       "      <th>sp500 low</th>\n",
       "      <th>sp500 close</th>\n",
       "      <th>sp500 volume</th>\n",
       "      <th>sp500 high-low</th>\n",
       "      <th>nasdaq open</th>\n",
       "      <th>nasdaq high</th>\n",
       "      <th>nasdaq low</th>\n",
       "      <th>nasdaq close</th>\n",
       "      <th>nasdaq volume</th>\n",
       "      <th>nasdaq high-low</th>\n",
       "      <th>usd_chf</th>\n",
       "      <th>eur_usd</th>\n",
       "      <th>gold open</th>\n",
       "      <th>gold high</th>\n",
       "      <th>gold low</th>\n",
       "      <th>gold close</th>\n",
       "      <th>gold volume</th>\n",
       "    </tr>\n",
       "  </thead>\n",
       "  <tbody>\n",
       "    <tr>\n",
       "      <th>0</th>\n",
       "      <td>114.49</td>\n",
       "      <td>115.14</td>\n",
       "      <td>114.42</td>\n",
       "      <td>114.93</td>\n",
       "      <td>115646960.0</td>\n",
       "      <td>0.72</td>\n",
       "      <td>46.26</td>\n",
       "      <td>46.520</td>\n",
       "      <td>46.22</td>\n",
       "      <td>46.39</td>\n",
       "      <td>75209000.0</td>\n",
       "      <td>0.300</td>\n",
       "      <td>1.0206</td>\n",
       "      <td>1.4478</td>\n",
       "      <td>111.51</td>\n",
       "      <td>112.37</td>\n",
       "      <td>110.79</td>\n",
       "      <td>112.03</td>\n",
       "      <td>18305238.0</td>\n",
       "    </tr>\n",
       "    <tr>\n",
       "      <th>1</th>\n",
       "      <td>114.73</td>\n",
       "      <td>114.84</td>\n",
       "      <td>113.20</td>\n",
       "      <td>113.64</td>\n",
       "      <td>212252769.0</td>\n",
       "      <td>1.64</td>\n",
       "      <td>46.46</td>\n",
       "      <td>46.550</td>\n",
       "      <td>45.65</td>\n",
       "      <td>45.85</td>\n",
       "      <td>126849300.0</td>\n",
       "      <td>0.900</td>\n",
       "      <td>1.0264</td>\n",
       "      <td>1.4376</td>\n",
       "      <td>111.35</td>\n",
       "      <td>112.01</td>\n",
       "      <td>110.38</td>\n",
       "      <td>110.86</td>\n",
       "      <td>18000724.0</td>\n",
       "    </tr>\n",
       "    <tr>\n",
       "      <th>3</th>\n",
       "      <td>113.62</td>\n",
       "      <td>115.13</td>\n",
       "      <td>113.59</td>\n",
       "      <td>115.06</td>\n",
       "      <td>138671890.0</td>\n",
       "      <td>1.54</td>\n",
       "      <td>45.96</td>\n",
       "      <td>46.640</td>\n",
       "      <td>45.95</td>\n",
       "      <td>46.59</td>\n",
       "      <td>84388200.0</td>\n",
       "      <td>0.690</td>\n",
       "      <td>1.0340</td>\n",
       "      <td>1.4269</td>\n",
       "      <td>110.95</td>\n",
       "      <td>111.75</td>\n",
       "      <td>110.83</td>\n",
       "      <td>111.52</td>\n",
       "      <td>10467927.0</td>\n",
       "    </tr>\n",
       "    <tr>\n",
       "      <th>4</th>\n",
       "      <td>114.28</td>\n",
       "      <td>114.45</td>\n",
       "      <td>112.98</td>\n",
       "      <td>113.89</td>\n",
       "      <td>216330645.0</td>\n",
       "      <td>1.47</td>\n",
       "      <td>46.27</td>\n",
       "      <td>46.604</td>\n",
       "      <td>45.43</td>\n",
       "      <td>45.92</td>\n",
       "      <td>145680000.0</td>\n",
       "      <td>1.174</td>\n",
       "      <td>1.0453</td>\n",
       "      <td>1.4094</td>\n",
       "      <td>109.97</td>\n",
       "      <td>110.05</td>\n",
       "      <td>108.46</td>\n",
       "      <td>108.94</td>\n",
       "      <td>17534231.0</td>\n",
       "    </tr>\n",
       "    <tr>\n",
       "      <th>5</th>\n",
       "      <td>113.92</td>\n",
       "      <td>114.27</td>\n",
       "      <td>111.56</td>\n",
       "      <td>111.70</td>\n",
       "      <td>344747028.0</td>\n",
       "      <td>2.71</td>\n",
       "      <td>46.06</td>\n",
       "      <td>46.350</td>\n",
       "      <td>45.30</td>\n",
       "      <td>45.49</td>\n",
       "      <td>204939600.0</td>\n",
       "      <td>1.050</td>\n",
       "      <td>1.0426</td>\n",
       "      <td>1.4106</td>\n",
       "      <td>108.48</td>\n",
       "      <td>108.78</td>\n",
       "      <td>106.61</td>\n",
       "      <td>107.37</td>\n",
       "      <td>25747831.0</td>\n",
       "    </tr>\n",
       "  </tbody>\n",
       "</table>\n",
       "</div>"
      ],
      "text/plain": [
       "   sp500 open  sp500 high  sp500 low  sp500 close  sp500 volume  \\\n",
       "0      114.49      115.14     114.42       114.93   115646960.0   \n",
       "1      114.73      114.84     113.20       113.64   212252769.0   \n",
       "3      113.62      115.13     113.59       115.06   138671890.0   \n",
       "4      114.28      114.45     112.98       113.89   216330645.0   \n",
       "5      113.92      114.27     111.56       111.70   344747028.0   \n",
       "\n",
       "   sp500 high-low  nasdaq open  nasdaq high  nasdaq low  nasdaq close  \\\n",
       "0            0.72        46.26       46.520       46.22         46.39   \n",
       "1            1.64        46.46       46.550       45.65         45.85   \n",
       "3            1.54        45.96       46.640       45.95         46.59   \n",
       "4            1.47        46.27       46.604       45.43         45.92   \n",
       "5            2.71        46.06       46.350       45.30         45.49   \n",
       "\n",
       "   nasdaq volume  nasdaq high-low  usd_chf  eur_usd  gold open  gold high  \\\n",
       "0     75209000.0            0.300   1.0206   1.4478     111.51     112.37   \n",
       "1    126849300.0            0.900   1.0264   1.4376     111.35     112.01   \n",
       "3     84388200.0            0.690   1.0340   1.4269     110.95     111.75   \n",
       "4    145680000.0            1.174   1.0453   1.4094     109.97     110.05   \n",
       "5    204939600.0            1.050   1.0426   1.4106     108.48     108.78   \n",
       "\n",
       "   gold low  gold close  gold volume  \n",
       "0    110.79      112.03   18305238.0  \n",
       "1    110.38      110.86   18000724.0  \n",
       "3    110.83      111.52   10467927.0  \n",
       "4    108.46      108.94   17534231.0  \n",
       "5    106.61      107.37   25747831.0  "
      ]
     },
     "execution_count": 12,
     "metadata": {},
     "output_type": "execute_result"
    }
   ],
   "source": [
    "# Drop rows with missing target\n",
    "df = df.dropna(subset=['gold close'])\n",
    "df.head()"
   ]
  },
  {
   "cell_type": "markdown",
   "id": "d39c571f-b47e-4dba-9586-f81ae843ff83",
   "metadata": {},
   "source": [
    "## Handling Outliers and Removing Outliers"
   ]
  },
  {
   "cell_type": "code",
   "execution_count": 14,
   "id": "c5788de3-6db4-4da7-96a2-c1d97e82969b",
   "metadata": {
    "execution": {
     "iopub.execute_input": "2025-08-08T18:09:49.227414Z",
     "iopub.status.busy": "2025-08-08T18:09:49.227414Z",
     "iopub.status.idle": "2025-08-08T18:09:49.288677Z",
     "shell.execute_reply": "2025-08-08T18:09:49.287333Z",
     "shell.execute_reply.started": "2025-08-08T18:09:49.227414Z"
    }
   },
   "outputs": [
    {
     "name": "stdout",
     "output_type": "stream",
     "text": [
      "Original rows: 3719\n",
      "After outlier removal: 2962\n"
     ]
    }
   ],
   "source": [
    "# Select only numeric columns\n",
    "numeric_cols = df.select_dtypes(include='number').columns\n",
    "\n",
    "# Function to remove outliers using IQR\n",
    "def remove_outliers_iqr(df, cols):\n",
    "    for col in cols:\n",
    "        Q1 = df[col].quantile(0.25)\n",
    "        Q3 = df[col].quantile(0.75)\n",
    "        IQR = Q3 - Q1\n",
    "        lower_bound = Q1 - 1.5 * IQR\n",
    "        upper_bound = Q3 + 1.5 * IQR\n",
    "        df = df[(df[col] >= lower_bound) & (df[col] <= upper_bound)]\n",
    "    return df\n",
    "\n",
    "# Apply to your data\n",
    "df_cleaned = remove_outliers_iqr(df, numeric_cols)\n",
    "\n",
    "# Check how many rows were removed\n",
    "print(f\"Original rows: {df.shape[0]}\")\n",
    "print(f\"After outlier removal: {df_cleaned.shape[0]}\")"
   ]
  },
  {
   "cell_type": "code",
   "execution_count": 15,
   "id": "f31c84b2-63d0-4db9-854e-2798a026b772",
   "metadata": {
    "execution": {
     "iopub.execute_input": "2025-08-08T18:09:49.293297Z",
     "iopub.status.busy": "2025-08-08T18:09:49.292059Z",
     "iopub.status.idle": "2025-08-08T18:09:49.303717Z",
     "shell.execute_reply": "2025-08-08T18:09:49.301854Z",
     "shell.execute_reply.started": "2025-08-08T18:09:49.293297Z"
    }
   },
   "outputs": [
    {
     "name": "stdout",
     "output_type": "stream",
     "text": [
      "(2962, 19)\n"
     ]
    }
   ],
   "source": [
    "print(df_cleaned.shape)"
   ]
  },
  {
   "cell_type": "markdown",
   "id": "009aa0ff-9927-48a5-b130-a9876b2b13d5",
   "metadata": {},
   "source": [
    "## Checking How much percentage of outliers are removed"
   ]
  },
  {
   "cell_type": "code",
   "execution_count": 17,
   "id": "ecad3b63-dbc0-4a48-a70d-f4f56b202e9f",
   "metadata": {
    "execution": {
     "iopub.execute_input": "2025-08-08T18:09:49.345801Z",
     "iopub.status.busy": "2025-08-08T18:09:49.340927Z",
     "iopub.status.idle": "2025-08-08T18:09:49.355314Z",
     "shell.execute_reply": "2025-08-08T18:09:49.354362Z",
     "shell.execute_reply.started": "2025-08-08T18:09:49.345801Z"
    }
   },
   "outputs": [
    {
     "name": "stdout",
     "output_type": "stream",
     "text": [
      "Original rows: 3719\n",
      "Rows after removing outliers: 2962\n",
      "Outliers removed: 757 rows\n",
      "Percentage of data removed as outliers: 20.35%\n"
     ]
    }
   ],
   "source": [
    "# Total rows before and after outlier removal\n",
    "original_rows = df.shape[0]\n",
    "cleaned_rows = df_cleaned.shape[0]\n",
    "\n",
    "# Calculate number and percentage of removed rows\n",
    "removed_rows = original_rows - cleaned_rows\n",
    "removed_percent = (removed_rows / original_rows) * 100\n",
    "\n",
    "# Print results\n",
    "print(f\"Original rows: {original_rows}\")\n",
    "print(f\"Rows after removing outliers: {cleaned_rows}\")\n",
    "print(f\"Outliers removed: {removed_rows} rows\")\n",
    "print(f\"Percentage of data removed as outliers: {removed_percent:.2f}%\")\n"
   ]
  },
  {
   "cell_type": "markdown",
   "id": "9d19bbf2-6389-4c44-9003-9ee7ca49b81c",
   "metadata": {},
   "source": [
    "### After I Performed Boxplot to Checking Outliers\n",
    "- There is no outliers detected in my data"
   ]
  },
  {
   "cell_type": "code",
   "execution_count": 19,
   "id": "a43afb1a-f17d-4414-bbef-86b14f9fa59b",
   "metadata": {
    "execution": {
     "iopub.execute_input": "2025-08-08T18:09:49.389694Z",
     "iopub.status.busy": "2025-08-08T18:09:49.389694Z",
     "iopub.status.idle": "2025-08-08T18:09:50.046085Z",
     "shell.execute_reply": "2025-08-08T18:09:50.042011Z",
     "shell.execute_reply.started": "2025-08-08T18:09:49.389694Z"
    }
   },
   "outputs": [
    {
     "data": {
      "image/png": "[encoded data removed]",
      "text/plain": [
       "<Figure size 1200x600 with 1 Axes>"
      ]
     },
     "metadata": {},
     "output_type": "display_data"
    }
   ],
   "source": [
    "percent_removed = {}\n",
    "\n",
    "for col in numeric_cols:\n",
    "    before = df[col].shape[0]\n",
    "    after = df_cleaned[col].shape[0]\n",
    "    removed = before - after\n",
    "    percent = (removed / before) * 100\n",
    "    percent_removed[col] = percent\n",
    "\n",
    "# Plot\n",
    "plt.figure(figsize=(12, 6))\n",
    "sns.boxplot(x=list(percent_removed.keys()), y=list(percent_removed.values()))\n",
    "plt.xticks(rotation=90)\n",
    "plt.ylabel(\"Percentage of Outliers Removed\")\n",
    "plt.title(\"Outliers Removed per Column (%)\")\n",
    "plt.grid(True)\n",
    "plt.tight_layout()\n",
    "plt.show()"
   ]
  },
  {
   "cell_type": "code",
   "execution_count": 20,
   "id": "c56feeec-81d9-405f-8434-d078ae8dc3cb",
   "metadata": {
    "execution": {
     "iopub.execute_input": "2025-08-08T18:09:50.047265Z",
     "iopub.status.busy": "2025-08-08T18:09:50.047265Z",
     "iopub.status.idle": "2025-08-08T18:09:50.089231Z",
     "shell.execute_reply": "2025-08-08T18:09:50.088666Z",
     "shell.execute_reply.started": "2025-08-08T18:09:50.047265Z"
    }
   },
   "outputs": [
    {
     "data": {
      "text/html": [
       "<div>\n",
       "<style scoped>\n",
       "    .dataframe tbody tr th:only-of-type {\n",
       "        vertical-align: middle;\n",
       "    }\n",
       "\n",
       "    .dataframe tbody tr th {\n",
       "        vertical-align: top;\n",
       "    }\n",
       "\n",
       "    .dataframe thead th {\n",
       "        text-align: right;\n",
       "    }\n",
       "</style>\n",
       "<table border=\"1\" class=\"dataframe\">\n",
       "  <thead>\n",
       "    <tr style=\"text-align: right;\">\n",
       "      <th></th>\n",
       "      <th>sp500 open</th>\n",
       "      <th>sp500 high</th>\n",
       "      <th>sp500 low</th>\n",
       "      <th>sp500 close</th>\n",
       "      <th>sp500 volume</th>\n",
       "      <th>sp500 high-low</th>\n",
       "      <th>nasdaq open</th>\n",
       "      <th>nasdaq high</th>\n",
       "      <th>nasdaq low</th>\n",
       "      <th>nasdaq close</th>\n",
       "      <th>nasdaq volume</th>\n",
       "      <th>nasdaq high-low</th>\n",
       "      <th>usd_chf</th>\n",
       "      <th>eur_usd</th>\n",
       "      <th>gold open</th>\n",
       "      <th>gold high</th>\n",
       "      <th>gold low</th>\n",
       "      <th>gold close</th>\n",
       "      <th>gold volume</th>\n",
       "    </tr>\n",
       "  </thead>\n",
       "  <tbody>\n",
       "    <tr>\n",
       "      <th>0</th>\n",
       "      <td>114.49</td>\n",
       "      <td>115.14</td>\n",
       "      <td>114.42</td>\n",
       "      <td>114.93</td>\n",
       "      <td>115646960.0</td>\n",
       "      <td>0.72</td>\n",
       "      <td>46.26</td>\n",
       "      <td>46.520</td>\n",
       "      <td>46.22</td>\n",
       "      <td>46.39</td>\n",
       "      <td>75209000.0</td>\n",
       "      <td>0.300</td>\n",
       "      <td>1.0206</td>\n",
       "      <td>1.4478</td>\n",
       "      <td>111.51</td>\n",
       "      <td>112.37</td>\n",
       "      <td>110.79</td>\n",
       "      <td>112.03</td>\n",
       "      <td>18305238.0</td>\n",
       "    </tr>\n",
       "    <tr>\n",
       "      <th>1</th>\n",
       "      <td>114.73</td>\n",
       "      <td>114.84</td>\n",
       "      <td>113.20</td>\n",
       "      <td>113.64</td>\n",
       "      <td>212252769.0</td>\n",
       "      <td>1.64</td>\n",
       "      <td>46.46</td>\n",
       "      <td>46.550</td>\n",
       "      <td>45.65</td>\n",
       "      <td>45.85</td>\n",
       "      <td>126849300.0</td>\n",
       "      <td>0.900</td>\n",
       "      <td>1.0264</td>\n",
       "      <td>1.4376</td>\n",
       "      <td>111.35</td>\n",
       "      <td>112.01</td>\n",
       "      <td>110.38</td>\n",
       "      <td>110.86</td>\n",
       "      <td>18000724.0</td>\n",
       "    </tr>\n",
       "    <tr>\n",
       "      <th>3</th>\n",
       "      <td>113.62</td>\n",
       "      <td>115.13</td>\n",
       "      <td>113.59</td>\n",
       "      <td>115.06</td>\n",
       "      <td>138671890.0</td>\n",
       "      <td>1.54</td>\n",
       "      <td>45.96</td>\n",
       "      <td>46.640</td>\n",
       "      <td>45.95</td>\n",
       "      <td>46.59</td>\n",
       "      <td>84388200.0</td>\n",
       "      <td>0.690</td>\n",
       "      <td>1.0340</td>\n",
       "      <td>1.4269</td>\n",
       "      <td>110.95</td>\n",
       "      <td>111.75</td>\n",
       "      <td>110.83</td>\n",
       "      <td>111.52</td>\n",
       "      <td>10467927.0</td>\n",
       "    </tr>\n",
       "    <tr>\n",
       "      <th>4</th>\n",
       "      <td>114.28</td>\n",
       "      <td>114.45</td>\n",
       "      <td>112.98</td>\n",
       "      <td>113.89</td>\n",
       "      <td>216330645.0</td>\n",
       "      <td>1.47</td>\n",
       "      <td>46.27</td>\n",
       "      <td>46.604</td>\n",
       "      <td>45.43</td>\n",
       "      <td>45.92</td>\n",
       "      <td>145680000.0</td>\n",
       "      <td>1.174</td>\n",
       "      <td>1.0453</td>\n",
       "      <td>1.4094</td>\n",
       "      <td>109.97</td>\n",
       "      <td>110.05</td>\n",
       "      <td>108.46</td>\n",
       "      <td>108.94</td>\n",
       "      <td>17534231.0</td>\n",
       "    </tr>\n",
       "    <tr>\n",
       "      <th>5</th>\n",
       "      <td>113.92</td>\n",
       "      <td>114.27</td>\n",
       "      <td>111.56</td>\n",
       "      <td>111.70</td>\n",
       "      <td>344747028.0</td>\n",
       "      <td>2.71</td>\n",
       "      <td>46.06</td>\n",
       "      <td>46.350</td>\n",
       "      <td>45.30</td>\n",
       "      <td>45.49</td>\n",
       "      <td>204939600.0</td>\n",
       "      <td>1.050</td>\n",
       "      <td>1.0426</td>\n",
       "      <td>1.4106</td>\n",
       "      <td>108.48</td>\n",
       "      <td>108.78</td>\n",
       "      <td>106.61</td>\n",
       "      <td>107.37</td>\n",
       "      <td>25747831.0</td>\n",
       "    </tr>\n",
       "  </tbody>\n",
       "</table>\n",
       "</div>"
      ],
      "text/plain": [
       "   sp500 open  sp500 high  sp500 low  sp500 close  sp500 volume  \\\n",
       "0      114.49      115.14     114.42       114.93   115646960.0   \n",
       "1      114.73      114.84     113.20       113.64   212252769.0   \n",
       "3      113.62      115.13     113.59       115.06   138671890.0   \n",
       "4      114.28      114.45     112.98       113.89   216330645.0   \n",
       "5      113.92      114.27     111.56       111.70   344747028.0   \n",
       "\n",
       "   sp500 high-low  nasdaq open  nasdaq high  nasdaq low  nasdaq close  \\\n",
       "0            0.72        46.26       46.520       46.22         46.39   \n",
       "1            1.64        46.46       46.550       45.65         45.85   \n",
       "3            1.54        45.96       46.640       45.95         46.59   \n",
       "4            1.47        46.27       46.604       45.43         45.92   \n",
       "5            2.71        46.06       46.350       45.30         45.49   \n",
       "\n",
       "   nasdaq volume  nasdaq high-low  usd_chf  eur_usd  gold open  gold high  \\\n",
       "0     75209000.0            0.300   1.0206   1.4478     111.51     112.37   \n",
       "1    126849300.0            0.900   1.0264   1.4376     111.35     112.01   \n",
       "3     84388200.0            0.690   1.0340   1.4269     110.95     111.75   \n",
       "4    145680000.0            1.174   1.0453   1.4094     109.97     110.05   \n",
       "5    204939600.0            1.050   1.0426   1.4106     108.48     108.78   \n",
       "\n",
       "   gold low  gold close  gold volume  \n",
       "0    110.79      112.03   18305238.0  \n",
       "1    110.38      110.86   18000724.0  \n",
       "3    110.83      111.52   10467927.0  \n",
       "4    108.46      108.94   17534231.0  \n",
       "5    106.61      107.37   25747831.0  "
      ]
     },
     "execution_count": 20,
     "metadata": {},
     "output_type": "execute_result"
    }
   ],
   "source": [
    "df.head()"
   ]
  },
  {
   "cell_type": "code",
   "execution_count": 21,
   "id": "94d3507e-8a7a-49e2-a36d-8a6197b9401f",
   "metadata": {
    "execution": {
     "iopub.execute_input": "2025-08-08T18:09:50.092924Z",
     "iopub.status.busy": "2025-08-08T18:09:50.091096Z",
     "iopub.status.idle": "2025-08-08T18:09:50.108169Z",
     "shell.execute_reply": "2025-08-08T18:09:50.107333Z",
     "shell.execute_reply.started": "2025-08-08T18:09:50.092924Z"
    }
   },
   "outputs": [
    {
     "data": {
      "text/plain": [
       "sp500 open         0.000000\n",
       "sp500 high         0.000000\n",
       "sp500 low          0.000000\n",
       "sp500 close        0.000000\n",
       "sp500 volume       0.000000\n",
       "sp500 high-low     0.000000\n",
       "nasdaq open        0.000000\n",
       "nasdaq high        0.000000\n",
       "nasdaq low         0.000000\n",
       "nasdaq close       0.000000\n",
       "nasdaq volume      0.000000\n",
       "nasdaq high-low    0.000000\n",
       "usd_chf            1.129336\n",
       "eur_usd            1.129336\n",
       "gold open          0.000000\n",
       "gold high          0.000000\n",
       "gold low           0.000000\n",
       "gold close         0.000000\n",
       "gold volume        0.000000\n",
       "dtype: float64"
      ]
     },
     "execution_count": 21,
     "metadata": {},
     "output_type": "execute_result"
    }
   ],
   "source": [
    "# Checking how much percentage of null values will occured\n",
    "df.isnull().sum()/len(df)*100"
   ]
  },
  {
   "cell_type": "code",
   "execution_count": 22,
   "id": "7f64bab4-f129-4ae0-b419-a9f37fa4a580",
   "metadata": {
    "execution": {
     "iopub.execute_input": "2025-08-08T18:09:50.111141Z",
     "iopub.status.busy": "2025-08-08T18:09:50.109938Z",
     "iopub.status.idle": "2025-08-08T18:09:50.123578Z",
     "shell.execute_reply": "2025-08-08T18:09:50.121893Z",
     "shell.execute_reply.started": "2025-08-08T18:09:50.111141Z"
    }
   },
   "outputs": [
    {
     "name": "stdout",
     "output_type": "stream",
     "text": [
      "sp500 open          0\n",
      "sp500 high          0\n",
      "sp500 low           0\n",
      "sp500 close         0\n",
      "sp500 volume        0\n",
      "sp500 high-low      0\n",
      "nasdaq open         0\n",
      "nasdaq high         0\n",
      "nasdaq low          0\n",
      "nasdaq close        0\n",
      "nasdaq volume       0\n",
      "nasdaq high-low     0\n",
      "usd_chf            42\n",
      "eur_usd            42\n",
      "gold open           0\n",
      "gold high           0\n",
      "gold low            0\n",
      "gold close          0\n",
      "gold volume         0\n",
      "dtype: int64\n"
     ]
    }
   ],
   "source": [
    "# Check for missing values\n",
    "print(df.isnull().sum())"
   ]
  },
  {
   "cell_type": "markdown",
   "id": "5e00d745-a0ae-43a0-851e-0eba408db735",
   "metadata": {},
   "source": [
    "### Fill the missing values by using median"
   ]
  },
  {
   "cell_type": "code",
   "execution_count": 24,
   "id": "e1653c72-a067-40a9-9cd4-2e82f09ce0b5",
   "metadata": {
    "execution": {
     "iopub.execute_input": "2025-08-08T18:09:50.157292Z",
     "iopub.status.busy": "2025-08-08T18:09:50.155207Z",
     "iopub.status.idle": "2025-08-08T18:09:50.200125Z",
     "shell.execute_reply": "2025-08-08T18:09:50.200125Z",
     "shell.execute_reply.started": "2025-08-08T18:09:50.157292Z"
    }
   },
   "outputs": [],
   "source": [
    "df[\"usd_chf\"]=df[\"usd_chf\"].fillna(df[\"usd_chf\"].median())\n",
    "df[\"eur_usd\"]=df[\"eur_usd\"].fillna(df[\"eur_usd\"].median())"
   ]
  },
  {
   "cell_type": "code",
   "execution_count": 25,
   "id": "8b56e97f-26ce-4f0e-b90b-485528076803",
   "metadata": {
    "execution": {
     "iopub.execute_input": "2025-08-08T18:09:50.207543Z",
     "iopub.status.busy": "2025-08-08T18:09:50.203843Z",
     "iopub.status.idle": "2025-08-08T18:09:50.233828Z",
     "shell.execute_reply": "2025-08-08T18:09:50.230710Z",
     "shell.execute_reply.started": "2025-08-08T18:09:50.207543Z"
    }
   },
   "outputs": [
    {
     "name": "stdout",
     "output_type": "stream",
     "text": [
      "sp500 open         0\n",
      "sp500 high         0\n",
      "sp500 low          0\n",
      "sp500 close        0\n",
      "sp500 volume       0\n",
      "sp500 high-low     0\n",
      "nasdaq open        0\n",
      "nasdaq high        0\n",
      "nasdaq low         0\n",
      "nasdaq close       0\n",
      "nasdaq volume      0\n",
      "nasdaq high-low    0\n",
      "usd_chf            0\n",
      "eur_usd            0\n",
      "gold open          0\n",
      "gold high          0\n",
      "gold low           0\n",
      "gold close         0\n",
      "gold volume        0\n",
      "dtype: int64\n"
     ]
    }
   ],
   "source": [
    "#After Applying of media to Checking an missing values\n",
    "print(df.isnull().sum())"
   ]
  },
  {
   "cell_type": "markdown",
   "id": "3f3ce56f-e277-4207-9a54-e47a46c20aee",
   "metadata": {},
   "source": [
    "### Fill Missing Values with Median for All Columns"
   ]
  },
  {
   "cell_type": "code",
   "execution_count": 27,
   "id": "9f5b998c-0deb-4e41-b13d-ff2ca469e2a5",
   "metadata": {
    "execution": {
     "iopub.execute_input": "2025-08-08T18:09:50.270445Z",
     "iopub.status.busy": "2025-08-08T18:09:50.270445Z",
     "iopub.status.idle": "2025-08-08T18:09:50.334604Z",
     "shell.execute_reply": "2025-08-08T18:09:50.332093Z",
     "shell.execute_reply.started": "2025-08-08T18:09:50.270445Z"
    }
   },
   "outputs": [
    {
     "name": "stdout",
     "output_type": "stream",
     "text": [
      "<class 'pandas.core.frame.DataFrame'>\n",
      "Index: 3719 entries, 0 to 3903\n",
      "Data columns (total 19 columns):\n",
      " #   Column           Non-Null Count  Dtype  \n",
      "---  ------           --------------  -----  \n",
      " 0   sp500 open       3719 non-null   float64\n",
      " 1   sp500 high       3719 non-null   float64\n",
      " 2   sp500 low        3719 non-null   float64\n",
      " 3   sp500 close      3719 non-null   float64\n",
      " 4   sp500 volume     3719 non-null   float64\n",
      " 5   sp500 high-low   3719 non-null   float64\n",
      " 6   nasdaq open      3719 non-null   float64\n",
      " 7   nasdaq high      3719 non-null   float64\n",
      " 8   nasdaq low       3719 non-null   float64\n",
      " 9   nasdaq close     3719 non-null   float64\n",
      " 10  nasdaq volume    3719 non-null   float64\n",
      " 11  nasdaq high-low  3719 non-null   float64\n",
      " 12  usd_chf          3719 non-null   float64\n",
      " 13  eur_usd          3719 non-null   float64\n",
      " 14  gold open        3719 non-null   float64\n",
      " 15  gold high        3719 non-null   float64\n",
      " 16  gold low         3719 non-null   float64\n",
      " 17  gold close       3719 non-null   float64\n",
      " 18  gold volume      3719 non-null   float64\n",
      "dtypes: float64(19)\n",
      "memory usage: 581.1 KB\n"
     ]
    }
   ],
   "source": [
    "df = df.fillna(df.median(numeric_only=True))\n",
    "df.info()"
   ]
  },
  {
   "cell_type": "markdown",
   "id": "e9e1512f-2cbc-4711-afe5-1e1ac9e1ab66",
   "metadata": {},
   "source": [
    "# Data Preprocessing"
   ]
  },
  {
   "cell_type": "markdown",
   "id": "24b76612-fa17-4392-8228-9e49389bf06c",
   "metadata": {},
   "source": [
    "## Target Variable"
   ]
  },
  {
   "cell_type": "code",
   "execution_count": 30,
   "id": "78820483-e707-4b0d-af62-cef12ddbf34a",
   "metadata": {
    "execution": {
     "iopub.execute_input": "2025-08-08T18:09:50.416532Z",
     "iopub.status.busy": "2025-08-08T18:09:50.413953Z",
     "iopub.status.idle": "2025-08-08T18:09:50.428325Z",
     "shell.execute_reply": "2025-08-08T18:09:50.428325Z",
     "shell.execute_reply.started": "2025-08-08T18:09:50.416532Z"
    }
   },
   "outputs": [
    {
     "data": {
      "text/plain": [
       "(3719, 18)"
      ]
     },
     "execution_count": 30,
     "metadata": {},
     "output_type": "execute_result"
    }
   ],
   "source": [
    "X = df.drop(columns=['gold close'])\n",
    "X.shape"
   ]
  },
  {
   "cell_type": "code",
   "execution_count": 31,
   "id": "0efc4307-1143-4a43-9541-02e291ebbe43",
   "metadata": {
    "execution": {
     "iopub.execute_input": "2025-08-08T18:09:50.431267Z",
     "iopub.status.busy": "2025-08-08T18:09:50.431267Z",
     "iopub.status.idle": "2025-08-08T18:09:50.440725Z",
     "shell.execute_reply": "2025-08-08T18:09:50.440221Z",
     "shell.execute_reply.started": "2025-08-08T18:09:50.431267Z"
    }
   },
   "outputs": [
    {
     "data": {
      "text/plain": [
       "(3719,)"
      ]
     },
     "execution_count": 31,
     "metadata": {},
     "output_type": "execute_result"
    }
   ],
   "source": [
    "# input feature\n",
    "y = df['gold close']\n",
    "y.shape"
   ]
  },
  {
   "cell_type": "code",
   "execution_count": 32,
   "id": "877c8cd7-df69-4778-bb3c-c77c873870f0",
   "metadata": {
    "execution": {
     "iopub.execute_input": "2025-08-08T18:09:50.444147Z",
     "iopub.status.busy": "2025-08-08T18:09:50.442883Z",
     "iopub.status.idle": "2025-08-08T18:09:50.454337Z",
     "shell.execute_reply": "2025-08-08T18:09:50.452858Z",
     "shell.execute_reply.started": "2025-08-08T18:09:50.444147Z"
    }
   },
   "outputs": [],
   "source": [
    "# Drop highly correlated gold features to prevent leakage\n",
    "X = X.drop(columns=['gold open', 'gold high', 'gold low'])"
   ]
  },
  {
   "cell_type": "code",
   "execution_count": 33,
   "id": "f949be73-4173-4672-899f-1a1064a2f9eb",
   "metadata": {
    "execution": {
     "iopub.execute_input": "2025-08-08T18:09:50.457088Z",
     "iopub.status.busy": "2025-08-08T18:09:50.455839Z",
     "iopub.status.idle": "2025-08-08T18:09:50.497425Z",
     "shell.execute_reply": "2025-08-08T18:09:50.497425Z",
     "shell.execute_reply.started": "2025-08-08T18:09:50.457088Z"
    }
   },
   "outputs": [],
   "source": [
    "# Split the data\n",
    "X_train, X_test, y_train, y_test = train_test_split(X, y, test_size=0.2, random_state=42)"
   ]
  },
  {
   "cell_type": "code",
   "execution_count": 34,
   "id": "f1db70ec-f0da-47ff-90df-1a2f1ae70001",
   "metadata": {
    "execution": {
     "iopub.execute_input": "2025-08-08T18:09:50.500718Z",
     "iopub.status.busy": "2025-08-08T18:09:50.497425Z",
     "iopub.status.idle": "2025-08-08T18:09:50.514154Z",
     "shell.execute_reply": "2025-08-08T18:09:50.514154Z",
     "shell.execute_reply.started": "2025-08-08T18:09:50.500718Z"
    }
   },
   "outputs": [
    {
     "name": "stdout",
     "output_type": "stream",
     "text": [
      "(2975, 15)\n",
      "(744, 15)\n",
      "(2975,)\n",
      "(744,)\n"
     ]
    }
   ],
   "source": [
    "print(X_train.shape)\n",
    "print(X_test.shape)\n",
    "print(y_train.shape)\n",
    "print(y_test.shape)"
   ]
  },
  {
   "cell_type": "markdown",
   "id": "8ac1143e-5c7f-4da4-b3b8-120f7aa85906",
   "metadata": {},
   "source": [
    "# Feature Scaling\n",
    "- The data all rows are in Numerical, Applying StandardScaler to transforming the data"
   ]
  },
  {
   "cell_type": "code",
   "execution_count": 36,
   "id": "cd4172a0-3249-40a8-bf4f-fd478902691e",
   "metadata": {
    "execution": {
     "iopub.execute_input": "2025-08-08T18:09:50.564914Z",
     "iopub.status.busy": "2025-08-08T18:09:50.564914Z",
     "iopub.status.idle": "2025-08-08T18:09:50.583789Z",
     "shell.execute_reply": "2025-08-08T18:09:50.583789Z",
     "shell.execute_reply.started": "2025-08-08T18:09:50.564914Z"
    }
   },
   "outputs": [],
   "source": [
    "# Scale features\n",
    "scaler = StandardScaler()\n",
    "X_train_scaled = scaler.fit_transform(X_train)\n",
    "X_test_scaled = scaler.transform(X_test)"
   ]
  },
  {
   "cell_type": "code",
   "execution_count": 37,
   "id": "25f5f614-d9b8-4e4c-aec5-43789fdda6c7",
   "metadata": {
    "execution": {
     "iopub.execute_input": "2025-08-08T18:09:50.583789Z",
     "iopub.status.busy": "2025-08-08T18:09:50.583789Z",
     "iopub.status.idle": "2025-08-08T18:09:50.616520Z",
     "shell.execute_reply": "2025-08-08T18:09:50.616016Z",
     "shell.execute_reply.started": "2025-08-08T18:09:50.583789Z"
    }
   },
   "outputs": [
    {
     "data": {
      "text/html": [
       "<div>\n",
       "<style scoped>\n",
       "    .dataframe tbody tr th:only-of-type {\n",
       "        vertical-align: middle;\n",
       "    }\n",
       "\n",
       "    .dataframe tbody tr th {\n",
       "        vertical-align: top;\n",
       "    }\n",
       "\n",
       "    .dataframe thead th {\n",
       "        text-align: right;\n",
       "    }\n",
       "</style>\n",
       "<table border=\"1\" class=\"dataframe\">\n",
       "  <thead>\n",
       "    <tr style=\"text-align: right;\">\n",
       "      <th></th>\n",
       "      <th>0</th>\n",
       "      <th>1</th>\n",
       "      <th>2</th>\n",
       "      <th>3</th>\n",
       "      <th>4</th>\n",
       "      <th>5</th>\n",
       "      <th>6</th>\n",
       "      <th>7</th>\n",
       "      <th>8</th>\n",
       "      <th>9</th>\n",
       "      <th>10</th>\n",
       "      <th>11</th>\n",
       "      <th>12</th>\n",
       "      <th>13</th>\n",
       "      <th>14</th>\n",
       "    </tr>\n",
       "  </thead>\n",
       "  <tbody>\n",
       "    <tr>\n",
       "      <th>0</th>\n",
       "      <td>-1.231835</td>\n",
       "      <td>-1.230755</td>\n",
       "      <td>-1.228852</td>\n",
       "      <td>-1.226778</td>\n",
       "      <td>0.665520</td>\n",
       "      <td>-0.709965</td>\n",
       "      <td>-1.058755</td>\n",
       "      <td>-1.056573</td>\n",
       "      <td>-1.057957</td>\n",
       "      <td>-1.054751</td>\n",
       "      <td>1.530939</td>\n",
       "      <td>-0.683623</td>\n",
       "      <td>-0.015086</td>\n",
       "      <td>-0.274149</td>\n",
       "      <td>0.918222</td>\n",
       "    </tr>\n",
       "    <tr>\n",
       "      <th>1</th>\n",
       "      <td>1.214111</td>\n",
       "      <td>1.240494</td>\n",
       "      <td>1.233299</td>\n",
       "      <td>1.252031</td>\n",
       "      <td>-0.259609</td>\n",
       "      <td>0.955681</td>\n",
       "      <td>1.308212</td>\n",
       "      <td>1.356951</td>\n",
       "      <td>1.329537</td>\n",
       "      <td>1.369959</td>\n",
       "      <td>0.686042</td>\n",
       "      <td>2.173757</td>\n",
       "      <td>-0.795100</td>\n",
       "      <td>-1.057684</td>\n",
       "      <td>-0.604841</td>\n",
       "    </tr>\n",
       "    <tr>\n",
       "      <th>2</th>\n",
       "      <td>1.368873</td>\n",
       "      <td>1.371516</td>\n",
       "      <td>1.386677</td>\n",
       "      <td>1.389022</td>\n",
       "      <td>-0.595759</td>\n",
       "      <td>0.004970</td>\n",
       "      <td>1.471596</td>\n",
       "      <td>1.496369</td>\n",
       "      <td>1.491688</td>\n",
       "      <td>1.516010</td>\n",
       "      <td>0.098647</td>\n",
       "      <td>1.263002</td>\n",
       "      <td>-0.972897</td>\n",
       "      <td>-0.843506</td>\n",
       "      <td>-0.266199</td>\n",
       "    </tr>\n",
       "    <tr>\n",
       "      <th>3</th>\n",
       "      <td>-0.488692</td>\n",
       "      <td>-0.498019</td>\n",
       "      <td>-0.506514</td>\n",
       "      <td>-0.513491</td>\n",
       "      <td>1.107120</td>\n",
       "      <td>0.134267</td>\n",
       "      <td>-0.601577</td>\n",
       "      <td>-0.605881</td>\n",
       "      <td>-0.606323</td>\n",
       "      <td>-0.610723</td>\n",
       "      <td>-0.534842</td>\n",
       "      <td>-0.407636</td>\n",
       "      <td>0.707574</td>\n",
       "      <td>-0.930962</td>\n",
       "      <td>0.250520</td>\n",
       "    </tr>\n",
       "    <tr>\n",
       "      <th>4</th>\n",
       "      <td>0.425587</td>\n",
       "      <td>0.423771</td>\n",
       "      <td>0.432057</td>\n",
       "      <td>0.427173</td>\n",
       "      <td>0.543113</td>\n",
       "      <td>-0.162355</td>\n",
       "      <td>0.248315</td>\n",
       "      <td>0.241237</td>\n",
       "      <td>0.256906</td>\n",
       "      <td>0.246512</td>\n",
       "      <td>-0.660658</td>\n",
       "      <td>-0.525391</td>\n",
       "      <td>0.665514</td>\n",
       "      <td>-0.733739</td>\n",
       "      <td>-0.824302</td>\n",
       "    </tr>\n",
       "  </tbody>\n",
       "</table>\n",
       "</div>"
      ],
      "text/plain": [
       "         0         1         2         3         4         5         6   \\\n",
       "0 -1.231835 -1.230755 -1.228852 -1.226778  0.665520 -0.709965 -1.058755   \n",
       "1  1.214111  1.240494  1.233299  1.252031 -0.259609  0.955681  1.308212   \n",
       "2  1.368873  1.371516  1.386677  1.389022 -0.595759  0.004970  1.471596   \n",
       "3 -0.488692 -0.498019 -0.506514 -0.513491  1.107120  0.134267 -0.601577   \n",
       "4  0.425587  0.423771  0.432057  0.427173  0.543113 -0.162355  0.248315   \n",
       "\n",
       "         7         8         9         10        11        12        13  \\\n",
       "0 -1.056573 -1.057957 -1.054751  1.530939 -0.683623 -0.015086 -0.274149   \n",
       "1  1.356951  1.329537  1.369959  0.686042  2.173757 -0.795100 -1.057684   \n",
       "2  1.496369  1.491688  1.516010  0.098647  1.263002 -0.972897 -0.843506   \n",
       "3 -0.605881 -0.606323 -0.610723 -0.534842 -0.407636  0.707574 -0.930962   \n",
       "4  0.241237  0.256906  0.246512 -0.660658 -0.525391  0.665514 -0.733739   \n",
       "\n",
       "         14  \n",
       "0  0.918222  \n",
       "1 -0.604841  \n",
       "2 -0.266199  \n",
       "3  0.250520  \n",
       "4 -0.824302  "
      ]
     },
     "execution_count": 37,
     "metadata": {},
     "output_type": "execute_result"
    }
   ],
   "source": [
    "# Let us convert X_train_trans into Data Frame\n",
    "X_train_scaled=pd.DataFrame(X_train_scaled)\n",
    "X_train_scaled.head()"
   ]
  },
  {
   "cell_type": "code",
   "execution_count": 38,
   "id": "b6fa5f48-e119-493e-820b-b7ac8bde6ffe",
   "metadata": {
    "execution": {
     "iopub.execute_input": "2025-08-08T18:09:50.616520Z",
     "iopub.status.busy": "2025-08-08T18:09:50.616520Z",
     "iopub.status.idle": "2025-08-08T18:09:50.645254Z",
     "shell.execute_reply": "2025-08-08T18:09:50.645254Z",
     "shell.execute_reply.started": "2025-08-08T18:09:50.616520Z"
    }
   },
   "outputs": [
    {
     "data": {
      "text/html": [
       "<div>\n",
       "<style scoped>\n",
       "    .dataframe tbody tr th:only-of-type {\n",
       "        vertical-align: middle;\n",
       "    }\n",
       "\n",
       "    .dataframe tbody tr th {\n",
       "        vertical-align: top;\n",
       "    }\n",
       "\n",
       "    .dataframe thead th {\n",
       "        text-align: right;\n",
       "    }\n",
       "</style>\n",
       "<table border=\"1\" class=\"dataframe\">\n",
       "  <thead>\n",
       "    <tr style=\"text-align: right;\">\n",
       "      <th></th>\n",
       "      <th>0</th>\n",
       "      <th>1</th>\n",
       "      <th>2</th>\n",
       "      <th>3</th>\n",
       "      <th>4</th>\n",
       "      <th>5</th>\n",
       "      <th>6</th>\n",
       "      <th>7</th>\n",
       "      <th>8</th>\n",
       "      <th>9</th>\n",
       "      <th>10</th>\n",
       "      <th>11</th>\n",
       "      <th>12</th>\n",
       "      <th>13</th>\n",
       "      <th>14</th>\n",
       "    </tr>\n",
       "  </thead>\n",
       "  <tbody>\n",
       "    <tr>\n",
       "      <th>0</th>\n",
       "      <td>-0.857729</td>\n",
       "      <td>-0.860336</td>\n",
       "      <td>-0.854226</td>\n",
       "      <td>-0.859667</td>\n",
       "      <td>0.273849</td>\n",
       "      <td>-0.713768</td>\n",
       "      <td>-0.872595</td>\n",
       "      <td>-0.873864</td>\n",
       "      <td>-0.869859</td>\n",
       "      <td>-0.873113</td>\n",
       "      <td>-0.808078</td>\n",
       "      <td>-0.794017</td>\n",
       "      <td>-0.395534</td>\n",
       "      <td>1.269719</td>\n",
       "      <td>0.767589</td>\n",
       "    </tr>\n",
       "    <tr>\n",
       "      <th>1</th>\n",
       "      <td>1.039317</td>\n",
       "      <td>1.029534</td>\n",
       "      <td>1.004570</td>\n",
       "      <td>0.999564</td>\n",
       "      <td>0.086442</td>\n",
       "      <td>1.657307</td>\n",
       "      <td>0.827764</td>\n",
       "      <td>0.816455</td>\n",
       "      <td>0.790776</td>\n",
       "      <td>0.782223</td>\n",
       "      <td>0.592509</td>\n",
       "      <td>1.715620</td>\n",
       "      <td>-0.359210</td>\n",
       "      <td>-1.124614</td>\n",
       "      <td>-0.198890</td>\n",
       "    </tr>\n",
       "    <tr>\n",
       "      <th>2</th>\n",
       "      <td>-0.305005</td>\n",
       "      <td>-0.305824</td>\n",
       "      <td>-0.297051</td>\n",
       "      <td>-0.295833</td>\n",
       "      <td>-0.588920</td>\n",
       "      <td>-0.554049</td>\n",
       "      <td>-0.440002</td>\n",
       "      <td>-0.444103</td>\n",
       "      <td>-0.435551</td>\n",
       "      <td>-0.437139</td>\n",
       "      <td>-1.093751</td>\n",
       "      <td>-0.692822</td>\n",
       "      <td>1.139640</td>\n",
       "      <td>-1.179051</td>\n",
       "      <td>-0.428871</td>\n",
       "    </tr>\n",
       "    <tr>\n",
       "      <th>3</th>\n",
       "      <td>-0.095802</td>\n",
       "      <td>-0.102635</td>\n",
       "      <td>-0.086334</td>\n",
       "      <td>-0.093212</td>\n",
       "      <td>-0.750153</td>\n",
       "      <td>-0.793628</td>\n",
       "      <td>-0.232709</td>\n",
       "      <td>-0.237934</td>\n",
       "      <td>-0.225650</td>\n",
       "      <td>-0.230433</td>\n",
       "      <td>-0.948187</td>\n",
       "      <td>-0.713061</td>\n",
       "      <td>-0.015086</td>\n",
       "      <td>-0.274149</td>\n",
       "      <td>-0.398852</td>\n",
       "    </tr>\n",
       "    <tr>\n",
       "      <th>4</th>\n",
       "      <td>0.030369</td>\n",
       "      <td>0.020782</td>\n",
       "      <td>0.025752</td>\n",
       "      <td>0.028992</td>\n",
       "      <td>-0.517396</td>\n",
       "      <td>-0.215595</td>\n",
       "      <td>-0.099585</td>\n",
       "      <td>-0.106962</td>\n",
       "      <td>-0.103125</td>\n",
       "      <td>-0.099998</td>\n",
       "      <td>-0.660445</td>\n",
       "      <td>-0.245724</td>\n",
       "      <td>0.841400</td>\n",
       "      <td>-0.150996</td>\n",
       "      <td>-0.122525</td>\n",
       "    </tr>\n",
       "  </tbody>\n",
       "</table>\n",
       "</div>"
      ],
      "text/plain": [
       "         0         1         2         3         4         5         6   \\\n",
       "0 -0.857729 -0.860336 -0.854226 -0.859667  0.273849 -0.713768 -0.872595   \n",
       "1  1.039317  1.029534  1.004570  0.999564  0.086442  1.657307  0.827764   \n",
       "2 -0.305005 -0.305824 -0.297051 -0.295833 -0.588920 -0.554049 -0.440002   \n",
       "3 -0.095802 -0.102635 -0.086334 -0.093212 -0.750153 -0.793628 -0.232709   \n",
       "4  0.030369  0.020782  0.025752  0.028992 -0.517396 -0.215595 -0.099585   \n",
       "\n",
       "         7         8         9         10        11        12        13  \\\n",
       "0 -0.873864 -0.869859 -0.873113 -0.808078 -0.794017 -0.395534  1.269719   \n",
       "1  0.816455  0.790776  0.782223  0.592509  1.715620 -0.359210 -1.124614   \n",
       "2 -0.444103 -0.435551 -0.437139 -1.093751 -0.692822  1.139640 -1.179051   \n",
       "3 -0.237934 -0.225650 -0.230433 -0.948187 -0.713061 -0.015086 -0.274149   \n",
       "4 -0.106962 -0.103125 -0.099998 -0.660445 -0.245724  0.841400 -0.150996   \n",
       "\n",
       "         14  \n",
       "0  0.767589  \n",
       "1 -0.198890  \n",
       "2 -0.428871  \n",
       "3 -0.398852  \n",
       "4 -0.122525  "
      ]
     },
     "execution_count": 38,
     "metadata": {},
     "output_type": "execute_result"
    }
   ],
   "source": [
    "# Let us convert X_test_trans into Data Frame\n",
    "X_test_scaled=pd.DataFrame(X_test_scaled)\n",
    "X_test_scaled.head()"
   ]
  },
  {
   "cell_type": "markdown",
   "id": "526fb900-616f-44f2-9527-f8020b819e5d",
   "metadata": {},
   "source": [
    "# **Build and train the KNN model**"
   ]
  },
  {
   "cell_type": "code",
   "execution_count": 40,
   "id": "4960f335-0c62-467f-b6bf-9bbcdb7b8c0e",
   "metadata": {
    "execution": {
     "iopub.execute_input": "2025-08-08T18:09:52.779819Z",
     "iopub.status.busy": "2025-08-08T18:09:52.778697Z",
     "iopub.status.idle": "2025-08-08T18:09:52.867283Z",
     "shell.execute_reply": "2025-08-08T18:09:52.866281Z",
     "shell.execute_reply.started": "2025-08-08T18:09:52.779819Z"
    }
   },
   "outputs": [
    {
     "data": {
      "text/html": [
       "<style>#sk-container-id-1 {\n",
       "  /* Definition of color scheme common for light and dark mode */\n",
       "  --sklearn-color-text: black;\n",
       "  --sklearn-color-line: gray;\n",
       "  /* Definition of color scheme for unfitted estimators */\n",
       "  --sklearn-color-unfitted-level-0: #fff5e6;\n",
       "  --sklearn-color-unfitted-level-1: #f6e4d2;\n",
       "  --sklearn-color-unfitted-level-2: #ffe0b3;\n",
       "  --sklearn-color-unfitted-level-3: chocolate;\n",
       "  /* Definition of color scheme for fitted estimators */\n",
       "  --sklearn-color-fitted-level-0: #f0f8ff;\n",
       "  --sklearn-color-fitted-level-1: #d4ebff;\n",
       "  --sklearn-color-fitted-level-2: #b3dbfd;\n",
       "  --sklearn-color-fitted-level-3: cornflowerblue;\n",
       "\n",
       "  /* Specific color for light theme */\n",
       "  --sklearn-color-text-on-default-background: var(--sg-text-color, var(--theme-code-foreground, var(--jp-content-font-color1, black)));\n",
       "  --sklearn-color-background: var(--sg-background-color, var(--theme-background, var(--jp-layout-color0, white)));\n",
       "  --sklearn-color-border-box: var(--sg-text-color, var(--theme-code-foreground, var(--jp-content-font-color1, black)));\n",
       "  --sklearn-color-icon: #696969;\n",
       "\n",
       "  @media (prefers-color-scheme: dark) {\n",
       "    /* Redefinition of color scheme for dark theme */\n",
       "    --sklearn-color-text-on-default-background: var(--sg-text-color, var(--theme-code-foreground, var(--jp-content-font-color1, white)));\n",
       "    --sklearn-color-background: var(--sg-background-color, var(--theme-background, var(--jp-layout-color0, #111)));\n",
       "    --sklearn-color-border-box: var(--sg-text-color, var(--theme-code-foreground, var(--jp-content-font-color1, white)));\n",
       "    --sklearn-color-icon: #878787;\n",
       "  }\n",
       "}\n",
       "\n",
       "#sk-container-id-1 {\n",
       "  color: var(--sklearn-color-text);\n",
       "}\n",
       "\n",
       "#sk-container-id-1 pre {\n",
       "  padding: 0;\n",
       "}\n",
       "\n",
       "#sk-container-id-1 input.sk-hidden--visually {\n",
       "  border: 0;\n",
       "  clip: rect(1px 1px 1px 1px);\n",
       "  clip: rect(1px, 1px, 1px, 1px);\n",
       "  height: 1px;\n",
       "  margin: -1px;\n",
       "  overflow: hidden;\n",
       "  padding: 0;\n",
       "  position: absolute;\n",
       "  width: 1px;\n",
       "}\n",
       "\n",
       "#sk-container-id-1 div.sk-dashed-wrapped {\n",
       "  border: 1px dashed var(--sklearn-color-line);\n",
       "  margin: 0 0.4em 0.5em 0.4em;\n",
       "  box-sizing: border-box;\n",
       "  padding-bottom: 0.4em;\n",
       "  background-color: var(--sklearn-color-background);\n",
       "}\n",
       "\n",
       "#sk-container-id-1 div.sk-container {\n",
       "  /* jupyter's `normalize.less` sets `[hidden] { display: none; }`\n",
       "     but bootstrap.min.css set `[hidden] { display: none !important; }`\n",
       "     so we also need the `!important` here to be able to override the\n",
       "     default hidden behavior on the sphinx rendered scikit-learn.org.\n",
       "     See: https://github.com/scikit-learn/scikit-learn/issues/21755 */\n",
       "  display: inline-block !important;\n",
       "  position: relative;\n",
       "}\n",
       "\n",
       "#sk-container-id-1 div.sk-text-repr-fallback {\n",
       "  display: none;\n",
       "}\n",
       "\n",
       "div.sk-parallel-item,\n",
       "div.sk-serial,\n",
       "div.sk-item {\n",
       "  /* draw centered vertical line to link estimators */\n",
       "  background-image: linear-gradient(var(--sklearn-color-text-on-default-background), var(--sklearn-color-text-on-default-background));\n",
       "  background-size: 2px 100%;\n",
       "  background-repeat: no-repeat;\n",
       "  background-position: center center;\n",
       "}\n",
       "\n",
       "/* Parallel-specific style estimator block */\n",
       "\n",
       "#sk-container-id-1 div.sk-parallel-item::after {\n",
       "  content: \"\";\n",
       "  width: 100%;\n",
       "  border-bottom: 2px solid var(--sklearn-color-text-on-default-background);\n",
       "  flex-grow: 1;\n",
       "}\n",
       "\n",
       "#sk-container-id-1 div.sk-parallel {\n",
       "  display: flex;\n",
       "  align-items: stretch;\n",
       "  justify-content: center;\n",
       "  background-color: var(--sklearn-color-background);\n",
       "  position: relative;\n",
       "}\n",
       "\n",
       "#sk-container-id-1 div.sk-parallel-item {\n",
       "  display: flex;\n",
       "  flex-direction: column;\n",
       "}\n",
       "\n",
       "#sk-container-id-1 div.sk-parallel-item:first-child::after {\n",
       "  align-self: flex-end;\n",
       "  width: 50%;\n",
       "}\n",
       "\n",
       "#sk-container-id-1 div.sk-parallel-item:last-child::after {\n",
       "  align-self: flex-start;\n",
       "  width: 50%;\n",
       "}\n",
       "\n",
       "#sk-container-id-1 div.sk-parallel-item:only-child::after {\n",
       "  width: 0;\n",
       "}\n",
       "\n",
       "/* Serial-specific style estimator block */\n",
       "\n",
       "#sk-container-id-1 div.sk-serial {\n",
       "  display: flex;\n",
       "  flex-direction: column;\n",
       "  align-items: center;\n",
       "  background-color: var(--sklearn-color-background);\n",
       "  padding-right: 1em;\n",
       "  padding-left: 1em;\n",
       "}\n",
       "\n",
       "\n",
       "/* Toggleable style: style used for estimator/Pipeline/ColumnTransformer box that is\n",
       "clickable and can be expanded/collapsed.\n",
       "- Pipeline and ColumnTransformer use this feature and define the default style\n",
       "- Estimators will overwrite some part of the style using the `sk-estimator` class\n",
       "*/\n",
       "\n",
       "/* Pipeline and ColumnTransformer style (default) */\n",
       "\n",
       "#sk-container-id-1 div.sk-toggleable {\n",
       "  /* Default theme specific background. It is overwritten whether we have a\n",
       "  specific estimator or a Pipeline/ColumnTransformer */\n",
       "  background-color: var(--sklearn-color-background);\n",
       "}\n",
       "\n",
       "/* Toggleable label */\n",
       "#sk-container-id-1 label.sk-toggleable__label {\n",
       "  cursor: pointer;\n",
       "  display: block;\n",
       "  width: 100%;\n",
       "  margin-bottom: 0;\n",
       "  padding: 0.5em;\n",
       "  box-sizing: border-box;\n",
       "  text-align: center;\n",
       "}\n",
       "\n",
       "#sk-container-id-1 label.sk-toggleable__label-arrow:before {\n",
       "  /* Arrow on the left of the label */\n",
       "  content: \"▸\";\n",
       "  float: left;\n",
       "  margin-right: 0.25em;\n",
       "  color: var(--sklearn-color-icon);\n",
       "}\n",
       "\n",
       "#sk-container-id-1 label.sk-toggleable__label-arrow:hover:before {\n",
       "  color: var(--sklearn-color-text);\n",
       "}\n",
       "\n",
       "/* Toggleable content - dropdown */\n",
       "\n",
       "#sk-container-id-1 div.sk-toggleable__content {\n",
       "  max-height: 0;\n",
       "  max-width: 0;\n",
       "  overflow: hidden;\n",
       "  text-align: left;\n",
       "  /* unfitted */\n",
       "  background-color: var(--sklearn-color-unfitted-level-0);\n",
       "}\n",
       "\n",
       "#sk-container-id-1 div.sk-toggleable__content.fitted {\n",
       "  /* fitted */\n",
       "  background-color: var(--sklearn-color-fitted-level-0);\n",
       "}\n",
       "\n",
       "#sk-container-id-1 div.sk-toggleable__content pre {\n",
       "  margin: 0.2em;\n",
       "  border-radius: 0.25em;\n",
       "  color: var(--sklearn-color-text);\n",
       "  /* unfitted */\n",
       "  background-color: var(--sklearn-color-unfitted-level-0);\n",
       "}\n",
       "\n",
       "#sk-container-id-1 div.sk-toggleable__content.fitted pre {\n",
       "  /* unfitted */\n",
       "  background-color: var(--sklearn-color-fitted-level-0);\n",
       "}\n",
       "\n",
       "#sk-container-id-1 input.sk-toggleable__control:checked~div.sk-toggleable__content {\n",
       "  /* Expand drop-down */\n",
       "  max-height: 200px;\n",
       "  max-width: 100%;\n",
       "  overflow: auto;\n",
       "}\n",
       "\n",
       "#sk-container-id-1 input.sk-toggleable__control:checked~label.sk-toggleable__label-arrow:before {\n",
       "  content: \"▾\";\n",
       "}\n",
       "\n",
       "/* Pipeline/ColumnTransformer-specific style */\n",
       "\n",
       "#sk-container-id-1 div.sk-label input.sk-toggleable__control:checked~label.sk-toggleable__label {\n",
       "  color: var(--sklearn-color-text);\n",
       "  background-color: var(--sklearn-color-unfitted-level-2);\n",
       "}\n",
       "\n",
       "#sk-container-id-1 div.sk-label.fitted input.sk-toggleable__control:checked~label.sk-toggleable__label {\n",
       "  background-color: var(--sklearn-color-fitted-level-2);\n",
       "}\n",
       "\n",
       "/* Estimator-specific style */\n",
       "\n",
       "/* Colorize estimator box */\n",
       "#sk-container-id-1 div.sk-estimator input.sk-toggleable__control:checked~label.sk-toggleable__label {\n",
       "  /* unfitted */\n",
       "  background-color: var(--sklearn-color-unfitted-level-2);\n",
       "}\n",
       "\n",
       "#sk-container-id-1 div.sk-estimator.fitted input.sk-toggleable__control:checked~label.sk-toggleable__label {\n",
       "  /* fitted */\n",
       "  background-color: var(--sklearn-color-fitted-level-2);\n",
       "}\n",
       "\n",
       "#sk-container-id-1 div.sk-label label.sk-toggleable__label,\n",
       "#sk-container-id-1 div.sk-label label {\n",
       "  /* The background is the default theme color */\n",
       "  color: var(--sklearn-color-text-on-default-background);\n",
       "}\n",
       "\n",
       "/* On hover, darken the color of the background */\n",
       "#sk-container-id-1 div.sk-label:hover label.sk-toggleable__label {\n",
       "  color: var(--sklearn-color-text);\n",
       "  background-color: var(--sklearn-color-unfitted-level-2);\n",
       "}\n",
       "\n",
       "/* Label box, darken color on hover, fitted */\n",
       "#sk-container-id-1 div.sk-label.fitted:hover label.sk-toggleable__label.fitted {\n",
       "  color: var(--sklearn-color-text);\n",
       "  background-color: var(--sklearn-color-fitted-level-2);\n",
       "}\n",
       "\n",
       "/* Estimator label */\n",
       "\n",
       "#sk-container-id-1 div.sk-label label {\n",
       "  font-family: monospace;\n",
       "  font-weight: bold;\n",
       "  display: inline-block;\n",
       "  line-height: 1.2em;\n",
       "}\n",
       "\n",
       "#sk-container-id-1 div.sk-label-container {\n",
       "  text-align: center;\n",
       "}\n",
       "\n",
       "/* Estimator-specific */\n",
       "#sk-container-id-1 div.sk-estimator {\n",
       "  font-family: monospace;\n",
       "  border: 1px dotted var(--sklearn-color-border-box);\n",
       "  border-radius: 0.25em;\n",
       "  box-sizing: border-box;\n",
       "  margin-bottom: 0.5em;\n",
       "  /* unfitted */\n",
       "  background-color: var(--sklearn-color-unfitted-level-0);\n",
       "}\n",
       "\n",
       "#sk-container-id-1 div.sk-estimator.fitted {\n",
       "  /* fitted */\n",
       "  background-color: var(--sklearn-color-fitted-level-0);\n",
       "}\n",
       "\n",
       "/* on hover */\n",
       "#sk-container-id-1 div.sk-estimator:hover {\n",
       "  /* unfitted */\n",
       "  background-color: var(--sklearn-color-unfitted-level-2);\n",
       "}\n",
       "\n",
       "#sk-container-id-1 div.sk-estimator.fitted:hover {\n",
       "  /* fitted */\n",
       "  background-color: var(--sklearn-color-fitted-level-2);\n",
       "}\n",
       "\n",
       "/* Specification for estimator info (e.g. \"i\" and \"?\") */\n",
       "\n",
       "/* Common style for \"i\" and \"?\" */\n",
       "\n",
       ".sk-estimator-doc-link,\n",
       "a:link.sk-estimator-doc-link,\n",
       "a:visited.sk-estimator-doc-link {\n",
       "  float: right;\n",
       "  font-size: smaller;\n",
       "  line-height: 1em;\n",
       "  font-family: monospace;\n",
       "  background-color: var(--sklearn-color-background);\n",
       "  border-radius: 1em;\n",
       "  height: 1em;\n",
       "  width: 1em;\n",
       "  text-decoration: none !important;\n",
       "  margin-left: 1ex;\n",
       "  /* unfitted */\n",
       "  border: var(--sklearn-color-unfitted-level-1) 1pt solid;\n",
       "  color: var(--sklearn-color-unfitted-level-1);\n",
       "}\n",
       "\n",
       ".sk-estimator-doc-link.fitted,\n",
       "a:link.sk-estimator-doc-link.fitted,\n",
       "a:visited.sk-estimator-doc-link.fitted {\n",
       "  /* fitted */\n",
       "  border: var(--sklearn-color-fitted-level-1) 1pt solid;\n",
       "  color: var(--sklearn-color-fitted-level-1);\n",
       "}\n",
       "\n",
       "/* On hover */\n",
       "div.sk-estimator:hover .sk-estimator-doc-link:hover,\n",
       ".sk-estimator-doc-link:hover,\n",
       "div.sk-label-container:hover .sk-estimator-doc-link:hover,\n",
       ".sk-estimator-doc-link:hover {\n",
       "  /* unfitted */\n",
       "  background-color: var(--sklearn-color-unfitted-level-3);\n",
       "  color: var(--sklearn-color-background);\n",
       "  text-decoration: none;\n",
       "}\n",
       "\n",
       "div.sk-estimator.fitted:hover .sk-estimator-doc-link.fitted:hover,\n",
       ".sk-estimator-doc-link.fitted:hover,\n",
       "div.sk-label-container:hover .sk-estimator-doc-link.fitted:hover,\n",
       ".sk-estimator-doc-link.fitted:hover {\n",
       "  /* fitted */\n",
       "  background-color: var(--sklearn-color-fitted-level-3);\n",
       "  color: var(--sklearn-color-background);\n",
       "  text-decoration: none;\n",
       "}\n",
       "\n",
       "/* Span, style for the box shown on hovering the info icon */\n",
       ".sk-estimator-doc-link span {\n",
       "  display: none;\n",
       "  z-index: 9999;\n",
       "  position: relative;\n",
       "  font-weight: normal;\n",
       "  right: .2ex;\n",
       "  padding: .5ex;\n",
       "  margin: .5ex;\n",
       "  width: min-content;\n",
       "  min-width: 20ex;\n",
       "  max-width: 50ex;\n",
       "  color: var(--sklearn-color-text);\n",
       "  box-shadow: 2pt 2pt 4pt #999;\n",
       "  /* unfitted */\n",
       "  background: var(--sklearn-color-unfitted-level-0);\n",
       "  border: .5pt solid var(--sklearn-color-unfitted-level-3);\n",
       "}\n",
       "\n",
       ".sk-estimator-doc-link.fitted span {\n",
       "  /* fitted */\n",
       "  background: var(--sklearn-color-fitted-level-0);\n",
       "  border: var(--sklearn-color-fitted-level-3);\n",
       "}\n",
       "\n",
       ".sk-estimator-doc-link:hover span {\n",
       "  display: block;\n",
       "}\n",
       "\n",
       "/* \"?\"-specific style due to the `<a>` HTML tag */\n",
       "\n",
       "#sk-container-id-1 a.estimator_doc_link {\n",
       "  float: right;\n",
       "  font-size: 1rem;\n",
       "  line-height: 1em;\n",
       "  font-family: monospace;\n",
       "  background-color: var(--sklearn-color-background);\n",
       "  border-radius: 1rem;\n",
       "  height: 1rem;\n",
       "  width: 1rem;\n",
       "  text-decoration: none;\n",
       "  /* unfitted */\n",
       "  color: var(--sklearn-color-unfitted-level-1);\n",
       "  border: var(--sklearn-color-unfitted-level-1) 1pt solid;\n",
       "}\n",
       "\n",
       "#sk-container-id-1 a.estimator_doc_link.fitted {\n",
       "  /* fitted */\n",
       "  border: var(--sklearn-color-fitted-level-1) 1pt solid;\n",
       "  color: var(--sklearn-color-fitted-level-1);\n",
       "}\n",
       "\n",
       "/* On hover */\n",
       "#sk-container-id-1 a.estimator_doc_link:hover {\n",
       "  /* unfitted */\n",
       "  background-color: var(--sklearn-color-unfitted-level-3);\n",
       "  color: var(--sklearn-color-background);\n",
       "  text-decoration: none;\n",
       "}\n",
       "\n",
       "#sk-container-id-1 a.estimator_doc_link.fitted:hover {\n",
       "  /* fitted */\n",
       "  background-color: var(--sklearn-color-fitted-level-3);\n",
       "}\n",
       "</style><div id=\"sk-container-id-1\" class=\"sk-top-container\"><div class=\"sk-text-repr-fallback\"><pre>KNeighborsRegressor()</pre><b>In a Jupyter environment, please rerun this cell to show the HTML representation or trust the notebook. <br />On GitHub, the HTML representation is unable to render, please try loading this page with nbviewer.org.</b></div><div class=\"sk-container\" hidden><div class=\"sk-item\"><div class=\"sk-estimator fitted sk-toggleable\"><input class=\"sk-toggleable__control sk-hidden--visually\" id=\"sk-estimator-id-1\" type=\"checkbox\" checked><label for=\"sk-estimator-id-1\" class=\"sk-toggleable__label fitted sk-toggleable__label-arrow fitted\">&nbsp;&nbsp;KNeighborsRegressor<a class=\"sk-estimator-doc-link fitted\" rel=\"noreferrer\" target=\"_blank\" href=\"https://scikit-learn.org/1.5/modules/generated/sklearn.neighbors.KNeighborsRegressor.html\">?<span>Documentation for KNeighborsRegressor</span></a><span class=\"sk-estimator-doc-link fitted\">i<span>Fitted</span></span></label><div class=\"sk-toggleable__content fitted\"><pre>KNeighborsRegressor()</pre></div> </div></div></div></div>"
      ],
      "text/plain": [
       "KNeighborsRegressor()"
      ]
     },
     "execution_count": 40,
     "metadata": {},
     "output_type": "execute_result"
    }
   ],
   "source": [
    " from sklearn.neighbors import KNeighborsRegressor\n",
    "knn = KNeighborsRegressor(n_neighbors = 5)\n",
    "# fit the data\n",
    "knn.fit(X_train_scaled,y_train)"
   ]
  },
  {
   "cell_type": "markdown",
   "id": "a6bd2371-de36-4b48-b629-1fd42bb4dcbe",
   "metadata": {},
   "source": [
    "# **Prediction Using Test Data**"
   ]
  },
  {
   "cell_type": "code",
   "execution_count": 42,
   "id": "d31ea4d3-3133-443f-b691-bfb69cc35858",
   "metadata": {
    "execution": {
     "iopub.execute_input": "2025-08-08T18:09:52.978903Z",
     "iopub.status.busy": "2025-08-08T18:09:52.978903Z",
     "iopub.status.idle": "2025-08-08T18:09:53.021498Z",
     "shell.execute_reply": "2025-08-08T18:09:53.021498Z",
     "shell.execute_reply.started": "2025-08-08T18:09:52.978903Z"
    }
   },
   "outputs": [
    {
     "name": "stdout",
     "output_type": "stream",
     "text": [
      "(744,)\n",
      "(744,)\n"
     ]
    }
   ],
   "source": [
    "y_pred=knn.predict(X_test_scaled)\n",
    "print(y_pred.shape)\n",
    "print(y_test.shape)"
   ]
  },
  {
   "cell_type": "markdown",
   "id": "2c07076a-4a50-403b-8ab2-5bf788d6d030",
   "metadata": {},
   "source": [
    "# **Model Validation**"
   ]
  },
  {
   "cell_type": "code",
   "execution_count": 44,
   "id": "417c50d4-151f-4929-ac09-45a3131afe09",
   "metadata": {
    "execution": {
     "iopub.execute_input": "2025-08-08T18:09:53.120372Z",
     "iopub.status.busy": "2025-08-08T18:09:53.117863Z",
     "iopub.status.idle": "2025-08-08T18:09:53.132324Z",
     "shell.execute_reply": "2025-08-08T18:09:53.132324Z",
     "shell.execute_reply.started": "2025-08-08T18:09:53.120372Z"
    }
   },
   "outputs": [
    {
     "name": "stdout",
     "output_type": "stream",
     "text": [
      "R2 score of KNN Model is 0.9565971892496727\n"
     ]
    }
   ],
   "source": [
    "# Let us evaluate the model using r2 score\n",
    "from sklearn.metrics import r2_score\n",
    "score=r2_score(y_pred,y_test)\n",
    "print(\"R2 score of KNN Model is\",score)"
   ]
  },
  {
   "cell_type": "code",
   "execution_count": 45,
   "id": "698fe76b-3907-4a9f-a08b-3eec78fc2c48",
   "metadata": {
    "execution": {
     "iopub.execute_input": "2025-08-08T18:09:53.135114Z",
     "iopub.status.busy": "2025-08-08T18:09:53.135114Z",
     "iopub.status.idle": "2025-08-08T18:09:53.149945Z",
     "shell.execute_reply": "2025-08-08T18:09:53.148940Z",
     "shell.execute_reply.started": "2025-08-08T18:09:53.135114Z"
    }
   },
   "outputs": [
    {
     "name": "stdout",
     "output_type": "stream",
     "text": [
      "R2 score of KNN Model is 0.9596486502555768\n"
     ]
    }
   ],
   "source": [
    "# Let us evaluate the model using r2 score\n",
    "from sklearn.metrics import r2_score\n",
    "score=r2_score(y_test,y_pred)\n",
    "print(\"R2 score of KNN Model is\",score)"
   ]
  },
  {
   "cell_type": "markdown",
   "id": "9ce46731-21a4-4081-b80e-c59b40533254",
   "metadata": {},
   "source": [
    "# **Identification of Model Quality**"
   ]
  },
  {
   "cell_type": "code",
   "execution_count": 47,
   "id": "acd7b6b7-af11-497d-90b2-98f012d18afd",
   "metadata": {
    "execution": {
     "iopub.execute_input": "2025-08-08T18:09:53.238196Z",
     "iopub.status.busy": "2025-08-08T18:09:53.238196Z",
     "iopub.status.idle": "2025-08-08T18:09:53.335153Z",
     "shell.execute_reply": "2025-08-08T18:09:53.335153Z",
     "shell.execute_reply.started": "2025-08-08T18:09:53.238196Z"
    }
   },
   "outputs": [
    {
     "name": "stdout",
     "output_type": "stream",
     "text": [
      "(744,)\n",
      "(2975,)\n"
     ]
    }
   ],
   "source": [
    "# Let us make pred using train data\n",
    "y_pred_train = knn.predict(X_train_scaled)\n",
    "print(y_test.shape)\n",
    "print(y_pred_train.shape)"
   ]
  },
  {
   "cell_type": "markdown",
   "id": "dc0f384b-7f6d-4e13-9a04-b595da5fb8d3",
   "metadata": {},
   "source": [
    "# **Mean Absolute error**"
   ]
  },
  {
   "cell_type": "code",
   "execution_count": 49,
   "id": "7514516f-9b20-4b7a-8083-3e32120f2c94",
   "metadata": {
    "execution": {
     "iopub.execute_input": "2025-08-08T18:09:53.430466Z",
     "iopub.status.busy": "2025-08-08T18:09:53.430466Z",
     "iopub.status.idle": "2025-08-08T18:09:53.442274Z",
     "shell.execute_reply": "2025-08-08T18:09:53.440270Z",
     "shell.execute_reply.started": "2025-08-08T18:09:53.430466Z"
    }
   },
   "outputs": [
    {
     "name": "stdout",
     "output_type": "stream",
     "text": [
      "Mean Absolute error of KNN model is  3.9147705913978497\n"
     ]
    }
   ],
   "source": [
    "# Mean Absolute error\n",
    "from sklearn.metrics import mean_absolute_error\n",
    "MAE = mean_absolute_error(y_test,y_pred)\n",
    "print('Mean Absolute error of KNN model is ',MAE)"
   ]
  },
  {
   "cell_type": "markdown",
   "id": "fb9147cb-58c4-46aa-8711-9cf1131f5394",
   "metadata": {},
   "source": [
    "# **Root Mean Squared error**"
   ]
  },
  {
   "cell_type": "code",
   "execution_count": 51,
   "id": "b91cfdd7-d044-464c-b33f-6bae6cdd5ee8",
   "metadata": {
    "execution": {
     "iopub.execute_input": "2025-08-08T18:09:53.540350Z",
     "iopub.status.busy": "2025-08-08T18:09:53.540350Z",
     "iopub.status.idle": "2025-08-08T18:09:53.550721Z",
     "shell.execute_reply": "2025-08-08T18:09:53.550721Z",
     "shell.execute_reply.started": "2025-08-08T18:09:53.540350Z"
    }
   },
   "outputs": [
    {
     "name": "stdout",
     "output_type": "stream",
     "text": [
      "root Mean Square error of KNN model is  6.157594327689122\n"
     ]
    }
   ],
   "source": [
    "# Root Mean Squared error\n",
    "from sklearn.metrics import root_mean_squared_error\n",
    "RMSE = root_mean_squared_error(y_test,y_pred)\n",
    "print('root Mean Square error of KNN model is ',RMSE)"
   ]
  },
  {
   "cell_type": "markdown",
   "id": "5b3512c4-8003-42fd-b9cf-a8ee8e22df2e",
   "metadata": {},
   "source": [
    "# **R2 Score**"
   ]
  },
  {
   "cell_type": "code",
   "execution_count": 53,
   "id": "d411ce57-b47e-48fc-ac03-ec3271b34bd4",
   "metadata": {
    "execution": {
     "iopub.execute_input": "2025-08-08T18:09:53.644437Z",
     "iopub.status.busy": "2025-08-08T18:09:53.644437Z",
     "iopub.status.idle": "2025-08-08T18:09:53.661329Z",
     "shell.execute_reply": "2025-08-08T18:09:53.661329Z",
     "shell.execute_reply.started": "2025-08-08T18:09:53.644437Z"
    }
   },
   "outputs": [
    {
     "name": "stdout",
     "output_type": "stream",
     "text": [
      "Train Score is 0.9758113049186942\n",
      "Test Score is 0.9596486502555768\n"
     ]
    }
   ],
   "source": [
    "# let us find the train score and test score\n",
    "from sklearn.metrics import r2_score\n",
    "test_score=r2_score(y_test,y_pred)\n",
    "train_score=r2_score(y_train,y_pred_train)\n",
    "print('Train Score is',train_score)\n",
    "print('Test Score is',test_score)"
   ]
  },
  {
   "cell_type": "markdown",
   "id": "0124f9ab-ceb6-46c6-aae1-8b10736b3dec",
   "metadata": {},
   "source": [
    "# **Observation:**\n",
    "\n",
    "- The r2 score with train Score data is 0.99\n",
    "\n",
    "- The r2 score with test Score data is 0.98\n",
    "\n",
    "- As the train score and test score are close, it is a Best Fit Model."
   ]
  },
  {
   "cell_type": "markdown",
   "id": "7f406089-d080-4b82-9ac8-487b054c7d59",
   "metadata": {},
   "source": [
    "## **Result Documentation**\n",
    "- Compare all model performances. \n",
    "- Present results in tables and graphs. \n",
    "- Write observations and provide recommendations. "
   ]
  },
  {
   "cell_type": "code",
   "execution_count": 56,
   "id": "df50acc8-db67-469c-972a-bff0dd5eae55",
   "metadata": {
    "execution": {
     "iopub.execute_input": "2025-08-08T18:09:53.850071Z",
     "iopub.status.busy": "2025-08-08T18:09:53.848991Z",
     "iopub.status.idle": "2025-08-08T18:09:53.874622Z",
     "shell.execute_reply": "2025-08-08T18:09:53.874622Z",
     "shell.execute_reply.started": "2025-08-08T18:09:53.850071Z"
    }
   },
   "outputs": [
    {
     "data": {
      "text/html": [
       "<div>\n",
       "<style scoped>\n",
       "    .dataframe tbody tr th:only-of-type {\n",
       "        vertical-align: middle;\n",
       "    }\n",
       "\n",
       "    .dataframe tbody tr th {\n",
       "        vertical-align: top;\n",
       "    }\n",
       "\n",
       "    .dataframe thead th {\n",
       "        text-align: right;\n",
       "    }\n",
       "</style>\n",
       "<table border=\"1\" class=\"dataframe\">\n",
       "  <thead>\n",
       "    <tr style=\"text-align: right;\">\n",
       "      <th></th>\n",
       "      <th>Model</th>\n",
       "      <th>MAE</th>\n",
       "      <th>R2 Score</th>\n",
       "      <th>RMSE</th>\n",
       "    </tr>\n",
       "  </thead>\n",
       "  <tbody>\n",
       "    <tr>\n",
       "      <th>0</th>\n",
       "      <td>KNeighbors</td>\n",
       "      <td>2.43</td>\n",
       "      <td>0.98</td>\n",
       "      <td>3.73</td>\n",
       "    </tr>\n",
       "  </tbody>\n",
       "</table>\n",
       "</div>"
      ],
      "text/plain": [
       "        Model   MAE  R2 Score  RMSE\n",
       "0  KNeighbors  2.43      0.98  3.73"
      ]
     },
     "execution_count": 56,
     "metadata": {},
     "output_type": "execute_result"
    }
   ],
   "source": [
    "# Results\n",
    "results = {\n",
    "    'Model': ['KNeighbors'],\n",
    "    'MAE' : [2.43],\n",
    "    'R2 Score': [0.98],\n",
    "    'RMSE': [3.730]\n",
    "}\n",
    "pd.DataFrame(results)\n"
   ]
  },
  {
   "cell_type": "code",
   "execution_count": 57,
   "id": "df9ee8de-1096-4120-a4ab-8aa4f36fc9a3",
   "metadata": {
    "execution": {
     "iopub.execute_input": "2025-08-08T18:09:53.878887Z",
     "iopub.status.busy": "2025-08-08T18:09:53.878887Z",
     "iopub.status.idle": "2025-08-08T18:09:54.155212Z",
     "shell.execute_reply": "2025-08-08T18:09:54.150187Z",
     "shell.execute_reply.started": "2025-08-08T18:09:53.878887Z"
    }
   },
   "outputs": [
    {
     "data": {
      "image/png": "[encoded data removed]",
      "text/plain": [
       "<Figure size 1000x500 with 1 Axes>"
      ]
     },
     "metadata": {},
     "output_type": "display_data"
    }
   ],
   "source": [
    "df_results = pd.DataFrame(results)\n",
    "plt.figure(figsize=(10, 5))\n",
    "sns.barplot(x='Model', y='R2 Score', data=df_results)\n",
    "plt.title('Model Comparison (R² Score)')\n",
    "plt.ylim(0, 1)\n",
    "plt.show()\n"
   ]
  },
  {
   "cell_type": "markdown",
   "id": "c69972cc-fa57-4a7c-8d09-d6898eda12bc",
   "metadata": {},
   "source": [
    "## **Observations** "
   ]
  },
  {
   "cell_type": "markdown",
   "id": "20082610-c78c-4c9e-86c0-97253747d911",
   "metadata": {},
   "source": [
    "- KNeighborsRegressor performed better than Linear and Decision Tree.\n",
    "\n",
    "- Random Forest had the highest R² and lowest RMSE, making it the most accurate."
   ]
  },
  {
   "cell_type": "markdown",
   "id": "5dc2d378-28c9-4746-bc07-8fa4457fec76",
   "metadata": {},
   "source": [
    "## **Recommendations:**\n",
    "- Use Random Forest for deployment if accuracy is critical.\n",
    "\n",
    "- Use KNN for smaller datasets where interpretability is needed.\n",
    "\n",
    "- Feature selection and hyperparameter tuning (like GridSearch) can further improve performance."
   ]
  },
  {
   "cell_type": "code",
   "execution_count": null,
   "id": "45a9084b-987c-48f7-93f6-7a7b0251a861",
   "metadata": {},
   "outputs": [],
   "source": []
  },
  {
   "cell_type": "code",
   "execution_count": null,
   "id": "639d1d62-2e1c-4d45-b7ec-dfb996af4945",
   "metadata": {},
   "outputs": [],
   "source": []
  },
  {
   "cell_type": "code",
   "execution_count": null,
   "id": "f384e4c9-a98f-4bbd-8d79-cb1c41189be1",
   "metadata": {},
   "outputs": [],
   "source": []
  },
  {
   "cell_type": "code",
   "execution_count": null,
   "id": "d4811b7d-7223-4bdd-8723-74fef286ada8",
   "metadata": {},
   "outputs": [],
   "source": []
  },
  {
   "cell_type": "code",
   "execution_count": null,
   "id": "7ad0aea3-5f65-42ca-85ad-ff496b042539",
   "metadata": {},
   "outputs": [],
   "source": []
  },
  {
   "cell_type": "code",
   "execution_count": null,
   "id": "53c5d114-6d3b-4bf8-9d3c-1d67d191a910",
   "metadata": {},
   "outputs": [],
   "source": []
  }
 ],
 "metadata": {
  "kernelspec": {
   "display_name": "Python [conda env:base] *",
   "language": "python",
   "name": "conda-base-py"
  },
  "language_info": {
   "codemirror_mode": {
    "name": "ipython",
    "version": 3
   },
   "file_extension": ".py",
   "mimetype": "text/x-python",
   "name": "python",
   "nbconvert_exporter": "python",
   "pygments_lexer": "ipython3",
   "version": "3.12.7"
  }
 },
 "nbformat": 4,
 "nbformat_minor": 5
}
